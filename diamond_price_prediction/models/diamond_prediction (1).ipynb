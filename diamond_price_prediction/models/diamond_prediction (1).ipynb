{
 "cells": [
  {
   "cell_type": "code",
   "execution_count": 1,
   "id": "d350776f",
   "metadata": {},
   "outputs": [],
   "source": [
    "import numpy as np\n",
    "import pandas as pd\n",
    "import seaborn as sns\n",
    "import matplotlib.pyplot as plt"
   ]
  },
  {
   "cell_type": "markdown",
   "id": "ea937d55",
   "metadata": {},
   "source": [
    "# Step - 1: Load the data"
   ]
  },
  {
   "cell_type": "code",
   "execution_count": 2,
   "id": "d9c0b77c",
   "metadata": {},
   "outputs": [
    {
     "data": {
      "text/html": [
       "<div>\n",
       "<style scoped>\n",
       "    .dataframe tbody tr th:only-of-type {\n",
       "        vertical-align: middle;\n",
       "    }\n",
       "\n",
       "    .dataframe tbody tr th {\n",
       "        vertical-align: top;\n",
       "    }\n",
       "\n",
       "    .dataframe thead th {\n",
       "        text-align: right;\n",
       "    }\n",
       "</style>\n",
       "<table border=\"1\" class=\"dataframe\">\n",
       "  <thead>\n",
       "    <tr style=\"text-align: right;\">\n",
       "      <th></th>\n",
       "      <th>carat</th>\n",
       "      <th>cut</th>\n",
       "      <th>color</th>\n",
       "      <th>clarity</th>\n",
       "      <th>depth</th>\n",
       "      <th>table</th>\n",
       "      <th>price</th>\n",
       "      <th>x</th>\n",
       "      <th>y</th>\n",
       "      <th>z</th>\n",
       "    </tr>\n",
       "  </thead>\n",
       "  <tbody>\n",
       "    <tr>\n",
       "      <th>0</th>\n",
       "      <td>0.23</td>\n",
       "      <td>Ideal</td>\n",
       "      <td>E</td>\n",
       "      <td>SI2</td>\n",
       "      <td>61.5</td>\n",
       "      <td>55.0</td>\n",
       "      <td>326</td>\n",
       "      <td>3.95</td>\n",
       "      <td>3.98</td>\n",
       "      <td>2.43</td>\n",
       "    </tr>\n",
       "    <tr>\n",
       "      <th>1</th>\n",
       "      <td>0.21</td>\n",
       "      <td>Premium</td>\n",
       "      <td>E</td>\n",
       "      <td>SI1</td>\n",
       "      <td>59.8</td>\n",
       "      <td>61.0</td>\n",
       "      <td>326</td>\n",
       "      <td>3.89</td>\n",
       "      <td>3.84</td>\n",
       "      <td>2.31</td>\n",
       "    </tr>\n",
       "    <tr>\n",
       "      <th>2</th>\n",
       "      <td>0.23</td>\n",
       "      <td>Good</td>\n",
       "      <td>E</td>\n",
       "      <td>VS1</td>\n",
       "      <td>56.9</td>\n",
       "      <td>65.0</td>\n",
       "      <td>327</td>\n",
       "      <td>4.05</td>\n",
       "      <td>4.07</td>\n",
       "      <td>2.31</td>\n",
       "    </tr>\n",
       "    <tr>\n",
       "      <th>3</th>\n",
       "      <td>0.29</td>\n",
       "      <td>Premium</td>\n",
       "      <td>I</td>\n",
       "      <td>VS2</td>\n",
       "      <td>62.4</td>\n",
       "      <td>58.0</td>\n",
       "      <td>334</td>\n",
       "      <td>4.20</td>\n",
       "      <td>4.23</td>\n",
       "      <td>2.63</td>\n",
       "    </tr>\n",
       "    <tr>\n",
       "      <th>4</th>\n",
       "      <td>0.31</td>\n",
       "      <td>Good</td>\n",
       "      <td>J</td>\n",
       "      <td>SI2</td>\n",
       "      <td>63.3</td>\n",
       "      <td>58.0</td>\n",
       "      <td>335</td>\n",
       "      <td>4.34</td>\n",
       "      <td>4.35</td>\n",
       "      <td>2.75</td>\n",
       "    </tr>\n",
       "    <tr>\n",
       "      <th>...</th>\n",
       "      <td>...</td>\n",
       "      <td>...</td>\n",
       "      <td>...</td>\n",
       "      <td>...</td>\n",
       "      <td>...</td>\n",
       "      <td>...</td>\n",
       "      <td>...</td>\n",
       "      <td>...</td>\n",
       "      <td>...</td>\n",
       "      <td>...</td>\n",
       "    </tr>\n",
       "    <tr>\n",
       "      <th>53935</th>\n",
       "      <td>0.72</td>\n",
       "      <td>Ideal</td>\n",
       "      <td>D</td>\n",
       "      <td>SI1</td>\n",
       "      <td>60.8</td>\n",
       "      <td>57.0</td>\n",
       "      <td>2757</td>\n",
       "      <td>5.75</td>\n",
       "      <td>5.76</td>\n",
       "      <td>3.50</td>\n",
       "    </tr>\n",
       "    <tr>\n",
       "      <th>53936</th>\n",
       "      <td>0.72</td>\n",
       "      <td>Good</td>\n",
       "      <td>D</td>\n",
       "      <td>SI1</td>\n",
       "      <td>63.1</td>\n",
       "      <td>55.0</td>\n",
       "      <td>2757</td>\n",
       "      <td>5.69</td>\n",
       "      <td>5.75</td>\n",
       "      <td>3.61</td>\n",
       "    </tr>\n",
       "    <tr>\n",
       "      <th>53937</th>\n",
       "      <td>0.70</td>\n",
       "      <td>Very Good</td>\n",
       "      <td>D</td>\n",
       "      <td>SI1</td>\n",
       "      <td>62.8</td>\n",
       "      <td>60.0</td>\n",
       "      <td>2757</td>\n",
       "      <td>5.66</td>\n",
       "      <td>5.68</td>\n",
       "      <td>3.56</td>\n",
       "    </tr>\n",
       "    <tr>\n",
       "      <th>53938</th>\n",
       "      <td>0.86</td>\n",
       "      <td>Premium</td>\n",
       "      <td>H</td>\n",
       "      <td>SI2</td>\n",
       "      <td>61.0</td>\n",
       "      <td>58.0</td>\n",
       "      <td>2757</td>\n",
       "      <td>6.15</td>\n",
       "      <td>6.12</td>\n",
       "      <td>3.74</td>\n",
       "    </tr>\n",
       "    <tr>\n",
       "      <th>53939</th>\n",
       "      <td>0.75</td>\n",
       "      <td>Ideal</td>\n",
       "      <td>D</td>\n",
       "      <td>SI2</td>\n",
       "      <td>62.2</td>\n",
       "      <td>55.0</td>\n",
       "      <td>2757</td>\n",
       "      <td>5.83</td>\n",
       "      <td>5.87</td>\n",
       "      <td>3.64</td>\n",
       "    </tr>\n",
       "  </tbody>\n",
       "</table>\n",
       "<p>53940 rows × 10 columns</p>\n",
       "</div>"
      ],
      "text/plain": [
       "       carat        cut color clarity  depth  table  price     x     y     z\n",
       "0       0.23      Ideal     E     SI2   61.5   55.0    326  3.95  3.98  2.43\n",
       "1       0.21    Premium     E     SI1   59.8   61.0    326  3.89  3.84  2.31\n",
       "2       0.23       Good     E     VS1   56.9   65.0    327  4.05  4.07  2.31\n",
       "3       0.29    Premium     I     VS2   62.4   58.0    334  4.20  4.23  2.63\n",
       "4       0.31       Good     J     SI2   63.3   58.0    335  4.34  4.35  2.75\n",
       "...      ...        ...   ...     ...    ...    ...    ...   ...   ...   ...\n",
       "53935   0.72      Ideal     D     SI1   60.8   57.0   2757  5.75  5.76  3.50\n",
       "53936   0.72       Good     D     SI1   63.1   55.0   2757  5.69  5.75  3.61\n",
       "53937   0.70  Very Good     D     SI1   62.8   60.0   2757  5.66  5.68  3.56\n",
       "53938   0.86    Premium     H     SI2   61.0   58.0   2757  6.15  6.12  3.74\n",
       "53939   0.75      Ideal     D     SI2   62.2   55.0   2757  5.83  5.87  3.64\n",
       "\n",
       "[53940 rows x 10 columns]"
      ]
     },
     "execution_count": 2,
     "metadata": {},
     "output_type": "execute_result"
    }
   ],
   "source": [
    "df=pd.read_csv(r\"C:\\Users\\Sharanya\\OneDrive\\Desktop\\diamond_price_prediction\\diamonds.csv\")\n",
    "df"
   ]
  },
  {
   "cell_type": "markdown",
   "id": "02fb0230",
   "metadata": {},
   "source": [
    "# Step - 2: Perform the EDA on the given dataset"
   ]
  },
  {
   "cell_type": "code",
   "execution_count": 3,
   "id": "d5246201",
   "metadata": {},
   "outputs": [
    {
     "data": {
      "text/plain": [
       "Index(['carat', 'cut', 'color', 'clarity', 'depth', 'table', 'price', 'x', 'y',\n",
       "       'z'],\n",
       "      dtype='object')"
      ]
     },
     "execution_count": 3,
     "metadata": {},
     "output_type": "execute_result"
    }
   ],
   "source": [
    "df.columns"
   ]
  },
  {
   "cell_type": "code",
   "execution_count": 4,
   "id": "156aa987",
   "metadata": {},
   "outputs": [
    {
     "data": {
      "text/plain": [
       "carat      0\n",
       "cut        0\n",
       "color      0\n",
       "clarity    0\n",
       "depth      0\n",
       "table      0\n",
       "price      0\n",
       "x          0\n",
       "y          0\n",
       "z          0\n",
       "dtype: int64"
      ]
     },
     "execution_count": 4,
     "metadata": {},
     "output_type": "execute_result"
    }
   ],
   "source": [
    "df.isnull().sum()"
   ]
  },
  {
   "cell_type": "code",
   "execution_count": 5,
   "id": "770c1cec",
   "metadata": {},
   "outputs": [
    {
     "data": {
      "text/html": [
       "<div>\n",
       "<style scoped>\n",
       "    .dataframe tbody tr th:only-of-type {\n",
       "        vertical-align: middle;\n",
       "    }\n",
       "\n",
       "    .dataframe tbody tr th {\n",
       "        vertical-align: top;\n",
       "    }\n",
       "\n",
       "    .dataframe thead th {\n",
       "        text-align: right;\n",
       "    }\n",
       "</style>\n",
       "<table border=\"1\" class=\"dataframe\">\n",
       "  <thead>\n",
       "    <tr style=\"text-align: right;\">\n",
       "      <th></th>\n",
       "      <th>carat</th>\n",
       "      <th>cut</th>\n",
       "      <th>color</th>\n",
       "      <th>clarity</th>\n",
       "      <th>depth</th>\n",
       "      <th>table</th>\n",
       "      <th>x</th>\n",
       "      <th>y</th>\n",
       "      <th>z</th>\n",
       "      <th>price</th>\n",
       "    </tr>\n",
       "  </thead>\n",
       "  <tbody>\n",
       "    <tr>\n",
       "      <th>0</th>\n",
       "      <td>0.23</td>\n",
       "      <td>Ideal</td>\n",
       "      <td>E</td>\n",
       "      <td>SI2</td>\n",
       "      <td>61.5</td>\n",
       "      <td>55.0</td>\n",
       "      <td>3.95</td>\n",
       "      <td>3.98</td>\n",
       "      <td>2.43</td>\n",
       "      <td>326</td>\n",
       "    </tr>\n",
       "    <tr>\n",
       "      <th>1</th>\n",
       "      <td>0.21</td>\n",
       "      <td>Premium</td>\n",
       "      <td>E</td>\n",
       "      <td>SI1</td>\n",
       "      <td>59.8</td>\n",
       "      <td>61.0</td>\n",
       "      <td>3.89</td>\n",
       "      <td>3.84</td>\n",
       "      <td>2.31</td>\n",
       "      <td>326</td>\n",
       "    </tr>\n",
       "    <tr>\n",
       "      <th>2</th>\n",
       "      <td>0.23</td>\n",
       "      <td>Good</td>\n",
       "      <td>E</td>\n",
       "      <td>VS1</td>\n",
       "      <td>56.9</td>\n",
       "      <td>65.0</td>\n",
       "      <td>4.05</td>\n",
       "      <td>4.07</td>\n",
       "      <td>2.31</td>\n",
       "      <td>327</td>\n",
       "    </tr>\n",
       "    <tr>\n",
       "      <th>3</th>\n",
       "      <td>0.29</td>\n",
       "      <td>Premium</td>\n",
       "      <td>I</td>\n",
       "      <td>VS2</td>\n",
       "      <td>62.4</td>\n",
       "      <td>58.0</td>\n",
       "      <td>4.20</td>\n",
       "      <td>4.23</td>\n",
       "      <td>2.63</td>\n",
       "      <td>334</td>\n",
       "    </tr>\n",
       "    <tr>\n",
       "      <th>4</th>\n",
       "      <td>0.31</td>\n",
       "      <td>Good</td>\n",
       "      <td>J</td>\n",
       "      <td>SI2</td>\n",
       "      <td>63.3</td>\n",
       "      <td>58.0</td>\n",
       "      <td>4.34</td>\n",
       "      <td>4.35</td>\n",
       "      <td>2.75</td>\n",
       "      <td>335</td>\n",
       "    </tr>\n",
       "  </tbody>\n",
       "</table>\n",
       "</div>"
      ],
      "text/plain": [
       "   carat      cut color clarity  depth  table     x     y     z  price\n",
       "0   0.23    Ideal     E     SI2   61.5   55.0  3.95  3.98  2.43    326\n",
       "1   0.21  Premium     E     SI1   59.8   61.0  3.89  3.84  2.31    326\n",
       "2   0.23     Good     E     VS1   56.9   65.0  4.05  4.07  2.31    327\n",
       "3   0.29  Premium     I     VS2   62.4   58.0  4.20  4.23  2.63    334\n",
       "4   0.31     Good     J     SI2   63.3   58.0  4.34  4.35  2.75    335"
      ]
     },
     "execution_count": 5,
     "metadata": {},
     "output_type": "execute_result"
    }
   ],
   "source": [
    "df = df[['carat', 'cut', 'color', 'clarity', 'depth', 'table', 'x', 'y', 'z', 'price']]\n",
    "\n",
    "df.head()"
   ]
  },
  {
   "cell_type": "code",
   "execution_count": 6,
   "id": "70fabd93",
   "metadata": {},
   "outputs": [
    {
     "name": "stdout",
     "output_type": "stream",
     "text": [
      "Requirement already satisfied: scikit-learn in c:\\users\\sharanya\\anaconda3\\lib\\site-packages (1.0.2)Note: you may need to restart the kernel to use updated packages.\n",
      "Requirement already satisfied: threadpoolctl>=2.0.0 in c:\\users\\sharanya\\anaconda3\\lib\\site-packages (from scikit-learn) (2.2.0)\n",
      "Requirement already satisfied: scipy>=1.1.0 in c:\\users\\sharanya\\anaconda3\\lib\\site-packages (from scikit-learn) (1.7.3)\n",
      "Requirement already satisfied: joblib>=0.11 in c:\\users\\sharanya\\anaconda3\\lib\\site-packages (from scikit-learn) (1.1.0)\n",
      "Requirement already satisfied: numpy>=1.14.6 in c:\\users\\sharanya\\anaconda3\\lib\\site-packages (from scikit-learn) (1.21.5)\n",
      "\n"
     ]
    }
   ],
   "source": [
    "pip install scikit-learn"
   ]
  },
  {
   "cell_type": "code",
   "execution_count": 7,
   "id": "307bd1e9",
   "metadata": {},
   "outputs": [
    {
     "name": "stdout",
     "output_type": "stream",
     "text": [
      "1.0.2\n"
     ]
    }
   ],
   "source": [
    "import sklearn\n",
    "\n",
    "print(sklearn.__version__)"
   ]
  },
  {
   "cell_type": "code",
   "execution_count": 8,
   "id": "a8ff68ec",
   "metadata": {},
   "outputs": [],
   "source": [
    "y = df['price']\n",
    "\n",
    "X = df[['carat', 'cut', 'color', 'clarity', 'depth', 'table', 'x', 'y', 'z']]"
   ]
  },
  {
   "cell_type": "code",
   "execution_count": 9,
   "id": "b74f3d38",
   "metadata": {},
   "outputs": [],
   "source": [
    "from sklearn.model_selection import train_test_split\n",
    "\n",
    "X_train, X_test, y_train, y_test = train_test_split(X, y, train_size=0.7, random_state=100)"
   ]
  },
  {
   "cell_type": "code",
   "execution_count": 10,
   "id": "6c937ffb",
   "metadata": {},
   "outputs": [
    {
     "data": {
      "text/html": [
       "<div>\n",
       "<style scoped>\n",
       "    .dataframe tbody tr th:only-of-type {\n",
       "        vertical-align: middle;\n",
       "    }\n",
       "\n",
       "    .dataframe tbody tr th {\n",
       "        vertical-align: top;\n",
       "    }\n",
       "\n",
       "    .dataframe thead th {\n",
       "        text-align: right;\n",
       "    }\n",
       "</style>\n",
       "<table border=\"1\" class=\"dataframe\">\n",
       "  <thead>\n",
       "    <tr style=\"text-align: right;\">\n",
       "      <th></th>\n",
       "      <th>carat</th>\n",
       "      <th>cut</th>\n",
       "      <th>color</th>\n",
       "      <th>clarity</th>\n",
       "      <th>depth</th>\n",
       "      <th>table</th>\n",
       "      <th>x</th>\n",
       "      <th>y</th>\n",
       "      <th>z</th>\n",
       "    </tr>\n",
       "  </thead>\n",
       "  <tbody>\n",
       "    <tr>\n",
       "      <th>29477</th>\n",
       "      <td>0.32</td>\n",
       "      <td>Ideal</td>\n",
       "      <td>F</td>\n",
       "      <td>VS1</td>\n",
       "      <td>61.3</td>\n",
       "      <td>56.0</td>\n",
       "      <td>4.40</td>\n",
       "      <td>4.44</td>\n",
       "      <td>2.71</td>\n",
       "    </tr>\n",
       "    <tr>\n",
       "      <th>52542</th>\n",
       "      <td>0.72</td>\n",
       "      <td>Very Good</td>\n",
       "      <td>I</td>\n",
       "      <td>VVS2</td>\n",
       "      <td>61.7</td>\n",
       "      <td>55.0</td>\n",
       "      <td>5.76</td>\n",
       "      <td>5.81</td>\n",
       "      <td>3.57</td>\n",
       "    </tr>\n",
       "    <tr>\n",
       "      <th>8725</th>\n",
       "      <td>0.38</td>\n",
       "      <td>Very Good</td>\n",
       "      <td>D</td>\n",
       "      <td>SI1</td>\n",
       "      <td>62.0</td>\n",
       "      <td>55.0</td>\n",
       "      <td>4.67</td>\n",
       "      <td>4.72</td>\n",
       "      <td>2.91</td>\n",
       "    </tr>\n",
       "    <tr>\n",
       "      <th>15577</th>\n",
       "      <td>1.00</td>\n",
       "      <td>Very Good</td>\n",
       "      <td>H</td>\n",
       "      <td>VVS2</td>\n",
       "      <td>62.6</td>\n",
       "      <td>56.0</td>\n",
       "      <td>6.36</td>\n",
       "      <td>6.39</td>\n",
       "      <td>3.99</td>\n",
       "    </tr>\n",
       "    <tr>\n",
       "      <th>19651</th>\n",
       "      <td>1.70</td>\n",
       "      <td>Premium</td>\n",
       "      <td>H</td>\n",
       "      <td>SI2</td>\n",
       "      <td>59.8</td>\n",
       "      <td>61.0</td>\n",
       "      <td>7.67</td>\n",
       "      <td>7.62</td>\n",
       "      <td>4.57</td>\n",
       "    </tr>\n",
       "  </tbody>\n",
       "</table>\n",
       "</div>"
      ],
      "text/plain": [
       "       carat        cut color clarity  depth  table     x     y     z\n",
       "29477   0.32      Ideal     F     VS1   61.3   56.0  4.40  4.44  2.71\n",
       "52542   0.72  Very Good     I    VVS2   61.7   55.0  5.76  5.81  3.57\n",
       "8725    0.38  Very Good     D     SI1   62.0   55.0  4.67  4.72  2.91\n",
       "15577   1.00  Very Good     H    VVS2   62.6   56.0  6.36  6.39  3.99\n",
       "19651   1.70    Premium     H     SI2   59.8   61.0  7.67  7.62  4.57"
      ]
     },
     "execution_count": 10,
     "metadata": {},
     "output_type": "execute_result"
    }
   ],
   "source": [
    "X_train.head()"
   ]
  },
  {
   "cell_type": "code",
   "execution_count": 11,
   "id": "d43607f4",
   "metadata": {},
   "outputs": [
    {
     "name": "stdout",
     "output_type": "stream",
     "text": [
      "(37758, 9) (37758,)\n",
      "(16182, 9) (16182,)\n"
     ]
    }
   ],
   "source": [
    "print(X_train.shape, y_train.shape)\n",
    "\n",
    "print(X_test.shape, y_test.shape)"
   ]
  },
  {
   "cell_type": "markdown",
   "id": "65a9858f",
   "metadata": {},
   "source": [
    "# b. Separating Categorical and Numerical Columns:"
   ]
  },
  {
   "cell_type": "code",
   "execution_count": 12,
   "id": "1117cc98",
   "metadata": {},
   "outputs": [
    {
     "data": {
      "text/html": [
       "<div>\n",
       "<style scoped>\n",
       "    .dataframe tbody tr th:only-of-type {\n",
       "        vertical-align: middle;\n",
       "    }\n",
       "\n",
       "    .dataframe tbody tr th {\n",
       "        vertical-align: top;\n",
       "    }\n",
       "\n",
       "    .dataframe thead th {\n",
       "        text-align: right;\n",
       "    }\n",
       "</style>\n",
       "<table border=\"1\" class=\"dataframe\">\n",
       "  <thead>\n",
       "    <tr style=\"text-align: right;\">\n",
       "      <th></th>\n",
       "      <th>carat</th>\n",
       "      <th>cut</th>\n",
       "      <th>color</th>\n",
       "      <th>clarity</th>\n",
       "      <th>depth</th>\n",
       "      <th>table</th>\n",
       "      <th>x</th>\n",
       "      <th>y</th>\n",
       "      <th>z</th>\n",
       "    </tr>\n",
       "  </thead>\n",
       "  <tbody>\n",
       "    <tr>\n",
       "      <th>29477</th>\n",
       "      <td>0.32</td>\n",
       "      <td>Ideal</td>\n",
       "      <td>F</td>\n",
       "      <td>VS1</td>\n",
       "      <td>61.3</td>\n",
       "      <td>56.0</td>\n",
       "      <td>4.40</td>\n",
       "      <td>4.44</td>\n",
       "      <td>2.71</td>\n",
       "    </tr>\n",
       "    <tr>\n",
       "      <th>52542</th>\n",
       "      <td>0.72</td>\n",
       "      <td>Very Good</td>\n",
       "      <td>I</td>\n",
       "      <td>VVS2</td>\n",
       "      <td>61.7</td>\n",
       "      <td>55.0</td>\n",
       "      <td>5.76</td>\n",
       "      <td>5.81</td>\n",
       "      <td>3.57</td>\n",
       "    </tr>\n",
       "    <tr>\n",
       "      <th>8725</th>\n",
       "      <td>0.38</td>\n",
       "      <td>Very Good</td>\n",
       "      <td>D</td>\n",
       "      <td>SI1</td>\n",
       "      <td>62.0</td>\n",
       "      <td>55.0</td>\n",
       "      <td>4.67</td>\n",
       "      <td>4.72</td>\n",
       "      <td>2.91</td>\n",
       "    </tr>\n",
       "    <tr>\n",
       "      <th>15577</th>\n",
       "      <td>1.00</td>\n",
       "      <td>Very Good</td>\n",
       "      <td>H</td>\n",
       "      <td>VVS2</td>\n",
       "      <td>62.6</td>\n",
       "      <td>56.0</td>\n",
       "      <td>6.36</td>\n",
       "      <td>6.39</td>\n",
       "      <td>3.99</td>\n",
       "    </tr>\n",
       "    <tr>\n",
       "      <th>19651</th>\n",
       "      <td>1.70</td>\n",
       "      <td>Premium</td>\n",
       "      <td>H</td>\n",
       "      <td>SI2</td>\n",
       "      <td>59.8</td>\n",
       "      <td>61.0</td>\n",
       "      <td>7.67</td>\n",
       "      <td>7.62</td>\n",
       "      <td>4.57</td>\n",
       "    </tr>\n",
       "  </tbody>\n",
       "</table>\n",
       "</div>"
      ],
      "text/plain": [
       "       carat        cut color clarity  depth  table     x     y     z\n",
       "29477   0.32      Ideal     F     VS1   61.3   56.0  4.40  4.44  2.71\n",
       "52542   0.72  Very Good     I    VVS2   61.7   55.0  5.76  5.81  3.57\n",
       "8725    0.38  Very Good     D     SI1   62.0   55.0  4.67  4.72  2.91\n",
       "15577   1.00  Very Good     H    VVS2   62.6   56.0  6.36  6.39  3.99\n",
       "19651   1.70    Premium     H     SI2   59.8   61.0  7.67  7.62  4.57"
      ]
     },
     "execution_count": 12,
     "metadata": {},
     "output_type": "execute_result"
    }
   ],
   "source": [
    "X_train.head()"
   ]
  },
  {
   "cell_type": "code",
   "execution_count": 13,
   "id": "80fddfe1",
   "metadata": {},
   "outputs": [
    {
     "data": {
      "text/plain": [
       "carat      float64\n",
       "cut         object\n",
       "color       object\n",
       "clarity     object\n",
       "depth      float64\n",
       "table      float64\n",
       "x          float64\n",
       "y          float64\n",
       "z          float64\n",
       "dtype: object"
      ]
     },
     "execution_count": 13,
     "metadata": {},
     "output_type": "execute_result"
    }
   ],
   "source": [
    "X_train.dtypes"
   ]
  },
  {
   "cell_type": "code",
   "execution_count": 14,
   "id": "68a0bb57",
   "metadata": {},
   "outputs": [
    {
     "data": {
      "text/html": [
       "<div>\n",
       "<style scoped>\n",
       "    .dataframe tbody tr th:only-of-type {\n",
       "        vertical-align: middle;\n",
       "    }\n",
       "\n",
       "    .dataframe tbody tr th {\n",
       "        vertical-align: top;\n",
       "    }\n",
       "\n",
       "    .dataframe thead th {\n",
       "        text-align: right;\n",
       "    }\n",
       "</style>\n",
       "<table border=\"1\" class=\"dataframe\">\n",
       "  <thead>\n",
       "    <tr style=\"text-align: right;\">\n",
       "      <th></th>\n",
       "      <th>cut</th>\n",
       "      <th>color</th>\n",
       "      <th>clarity</th>\n",
       "    </tr>\n",
       "  </thead>\n",
       "  <tbody>\n",
       "    <tr>\n",
       "      <th>29477</th>\n",
       "      <td>Ideal</td>\n",
       "      <td>F</td>\n",
       "      <td>VS1</td>\n",
       "    </tr>\n",
       "    <tr>\n",
       "      <th>52542</th>\n",
       "      <td>Very Good</td>\n",
       "      <td>I</td>\n",
       "      <td>VVS2</td>\n",
       "    </tr>\n",
       "    <tr>\n",
       "      <th>8725</th>\n",
       "      <td>Very Good</td>\n",
       "      <td>D</td>\n",
       "      <td>SI1</td>\n",
       "    </tr>\n",
       "    <tr>\n",
       "      <th>15577</th>\n",
       "      <td>Very Good</td>\n",
       "      <td>H</td>\n",
       "      <td>VVS2</td>\n",
       "    </tr>\n",
       "    <tr>\n",
       "      <th>19651</th>\n",
       "      <td>Premium</td>\n",
       "      <td>H</td>\n",
       "      <td>SI2</td>\n",
       "    </tr>\n",
       "  </tbody>\n",
       "</table>\n",
       "</div>"
      ],
      "text/plain": [
       "             cut color clarity\n",
       "29477      Ideal     F     VS1\n",
       "52542  Very Good     I    VVS2\n",
       "8725   Very Good     D     SI1\n",
       "15577  Very Good     H    VVS2\n",
       "19651    Premium     H     SI2"
      ]
     },
     "execution_count": 14,
     "metadata": {},
     "output_type": "execute_result"
    }
   ],
   "source": [
    "X_train_cat = X_train.select_dtypes(include=['object'])\n",
    "\n",
    "X_train_cat.head()"
   ]
  },
  {
   "cell_type": "code",
   "execution_count": 15,
   "id": "b6b431f9",
   "metadata": {},
   "outputs": [
    {
     "data": {
      "text/html": [
       "<div>\n",
       "<style scoped>\n",
       "    .dataframe tbody tr th:only-of-type {\n",
       "        vertical-align: middle;\n",
       "    }\n",
       "\n",
       "    .dataframe tbody tr th {\n",
       "        vertical-align: top;\n",
       "    }\n",
       "\n",
       "    .dataframe thead th {\n",
       "        text-align: right;\n",
       "    }\n",
       "</style>\n",
       "<table border=\"1\" class=\"dataframe\">\n",
       "  <thead>\n",
       "    <tr style=\"text-align: right;\">\n",
       "      <th></th>\n",
       "      <th>carat</th>\n",
       "      <th>depth</th>\n",
       "      <th>table</th>\n",
       "      <th>x</th>\n",
       "      <th>y</th>\n",
       "      <th>z</th>\n",
       "    </tr>\n",
       "  </thead>\n",
       "  <tbody>\n",
       "    <tr>\n",
       "      <th>29477</th>\n",
       "      <td>0.32</td>\n",
       "      <td>61.3</td>\n",
       "      <td>56.0</td>\n",
       "      <td>4.40</td>\n",
       "      <td>4.44</td>\n",
       "      <td>2.71</td>\n",
       "    </tr>\n",
       "    <tr>\n",
       "      <th>52542</th>\n",
       "      <td>0.72</td>\n",
       "      <td>61.7</td>\n",
       "      <td>55.0</td>\n",
       "      <td>5.76</td>\n",
       "      <td>5.81</td>\n",
       "      <td>3.57</td>\n",
       "    </tr>\n",
       "    <tr>\n",
       "      <th>8725</th>\n",
       "      <td>0.38</td>\n",
       "      <td>62.0</td>\n",
       "      <td>55.0</td>\n",
       "      <td>4.67</td>\n",
       "      <td>4.72</td>\n",
       "      <td>2.91</td>\n",
       "    </tr>\n",
       "    <tr>\n",
       "      <th>15577</th>\n",
       "      <td>1.00</td>\n",
       "      <td>62.6</td>\n",
       "      <td>56.0</td>\n",
       "      <td>6.36</td>\n",
       "      <td>6.39</td>\n",
       "      <td>3.99</td>\n",
       "    </tr>\n",
       "    <tr>\n",
       "      <th>19651</th>\n",
       "      <td>1.70</td>\n",
       "      <td>59.8</td>\n",
       "      <td>61.0</td>\n",
       "      <td>7.67</td>\n",
       "      <td>7.62</td>\n",
       "      <td>4.57</td>\n",
       "    </tr>\n",
       "  </tbody>\n",
       "</table>\n",
       "</div>"
      ],
      "text/plain": [
       "       carat  depth  table     x     y     z\n",
       "29477   0.32   61.3   56.0  4.40  4.44  2.71\n",
       "52542   0.72   61.7   55.0  5.76  5.81  3.57\n",
       "8725    0.38   62.0   55.0  4.67  4.72  2.91\n",
       "15577   1.00   62.6   56.0  6.36  6.39  3.99\n",
       "19651   1.70   59.8   61.0  7.67  7.62  4.57"
      ]
     },
     "execution_count": 15,
     "metadata": {},
     "output_type": "execute_result"
    }
   ],
   "source": [
    "X_train_num = X_train.select_dtypes(include=['int64', 'float64'])\n",
    "\n",
    "X_train_num.head()"
   ]
  },
  {
   "cell_type": "markdown",
   "id": "1b26bce3",
   "metadata": {},
   "source": [
    "# c. Scaling the Numerical Features"
   ]
  },
  {
   "cell_type": "code",
   "execution_count": 16,
   "id": "653601fd",
   "metadata": {},
   "outputs": [
    {
     "data": {
      "text/html": [
       "<div>\n",
       "<style scoped>\n",
       "    .dataframe tbody tr th:only-of-type {\n",
       "        vertical-align: middle;\n",
       "    }\n",
       "\n",
       "    .dataframe tbody tr th {\n",
       "        vertical-align: top;\n",
       "    }\n",
       "\n",
       "    .dataframe thead th {\n",
       "        text-align: right;\n",
       "    }\n",
       "</style>\n",
       "<table border=\"1\" class=\"dataframe\">\n",
       "  <thead>\n",
       "    <tr style=\"text-align: right;\">\n",
       "      <th></th>\n",
       "      <th>carat</th>\n",
       "      <th>depth</th>\n",
       "      <th>table</th>\n",
       "      <th>x</th>\n",
       "      <th>y</th>\n",
       "      <th>z</th>\n",
       "    </tr>\n",
       "  </thead>\n",
       "  <tbody>\n",
       "    <tr>\n",
       "      <th>29477</th>\n",
       "      <td>0.32</td>\n",
       "      <td>61.3</td>\n",
       "      <td>56.0</td>\n",
       "      <td>4.40</td>\n",
       "      <td>4.44</td>\n",
       "      <td>2.71</td>\n",
       "    </tr>\n",
       "    <tr>\n",
       "      <th>52542</th>\n",
       "      <td>0.72</td>\n",
       "      <td>61.7</td>\n",
       "      <td>55.0</td>\n",
       "      <td>5.76</td>\n",
       "      <td>5.81</td>\n",
       "      <td>3.57</td>\n",
       "    </tr>\n",
       "    <tr>\n",
       "      <th>8725</th>\n",
       "      <td>0.38</td>\n",
       "      <td>62.0</td>\n",
       "      <td>55.0</td>\n",
       "      <td>4.67</td>\n",
       "      <td>4.72</td>\n",
       "      <td>2.91</td>\n",
       "    </tr>\n",
       "    <tr>\n",
       "      <th>15577</th>\n",
       "      <td>1.00</td>\n",
       "      <td>62.6</td>\n",
       "      <td>56.0</td>\n",
       "      <td>6.36</td>\n",
       "      <td>6.39</td>\n",
       "      <td>3.99</td>\n",
       "    </tr>\n",
       "    <tr>\n",
       "      <th>19651</th>\n",
       "      <td>1.70</td>\n",
       "      <td>59.8</td>\n",
       "      <td>61.0</td>\n",
       "      <td>7.67</td>\n",
       "      <td>7.62</td>\n",
       "      <td>4.57</td>\n",
       "    </tr>\n",
       "  </tbody>\n",
       "</table>\n",
       "</div>"
      ],
      "text/plain": [
       "       carat  depth  table     x     y     z\n",
       "29477   0.32   61.3   56.0  4.40  4.44  2.71\n",
       "52542   0.72   61.7   55.0  5.76  5.81  3.57\n",
       "8725    0.38   62.0   55.0  4.67  4.72  2.91\n",
       "15577   1.00   62.6   56.0  6.36  6.39  3.99\n",
       "19651   1.70   59.8   61.0  7.67  7.62  4.57"
      ]
     },
     "execution_count": 16,
     "metadata": {},
     "output_type": "execute_result"
    }
   ],
   "source": [
    "X_train_num.head()"
   ]
  },
  {
   "cell_type": "code",
   "execution_count": 17,
   "id": "1d91e29f",
   "metadata": {},
   "outputs": [
    {
     "data": {
      "text/html": [
       "<div>\n",
       "<style scoped>\n",
       "    .dataframe tbody tr th:only-of-type {\n",
       "        vertical-align: middle;\n",
       "    }\n",
       "\n",
       "    .dataframe tbody tr th {\n",
       "        vertical-align: top;\n",
       "    }\n",
       "\n",
       "    .dataframe thead th {\n",
       "        text-align: right;\n",
       "    }\n",
       "</style>\n",
       "<table border=\"1\" class=\"dataframe\">\n",
       "  <thead>\n",
       "    <tr style=\"text-align: right;\">\n",
       "      <th></th>\n",
       "      <th>carat</th>\n",
       "      <th>depth</th>\n",
       "      <th>table</th>\n",
       "      <th>x</th>\n",
       "      <th>y</th>\n",
       "      <th>z</th>\n",
       "    </tr>\n",
       "  </thead>\n",
       "  <tbody>\n",
       "    <tr>\n",
       "      <th>29477</th>\n",
       "      <td>-1.007784</td>\n",
       "      <td>-0.316595</td>\n",
       "      <td>-0.647912</td>\n",
       "      <td>-1.187006</td>\n",
       "      <td>-1.122457</td>\n",
       "      <td>-1.191717</td>\n",
       "    </tr>\n",
       "    <tr>\n",
       "      <th>52542</th>\n",
       "      <td>-0.166198</td>\n",
       "      <td>-0.038325</td>\n",
       "      <td>-1.095448</td>\n",
       "      <td>0.023744</td>\n",
       "      <td>0.062997</td>\n",
       "      <td>0.043156</td>\n",
       "    </tr>\n",
       "    <tr>\n",
       "      <th>8725</th>\n",
       "      <td>-0.881547</td>\n",
       "      <td>0.170377</td>\n",
       "      <td>-1.095448</td>\n",
       "      <td>-0.946636</td>\n",
       "      <td>-0.880174</td>\n",
       "      <td>-0.904537</td>\n",
       "    </tr>\n",
       "    <tr>\n",
       "      <th>15577</th>\n",
       "      <td>0.422912</td>\n",
       "      <td>0.587782</td>\n",
       "      <td>-0.647912</td>\n",
       "      <td>0.557898</td>\n",
       "      <td>0.564868</td>\n",
       "      <td>0.646234</td>\n",
       "    </tr>\n",
       "    <tr>\n",
       "      <th>19651</th>\n",
       "      <td>1.895688</td>\n",
       "      <td>-1.360107</td>\n",
       "      <td>1.589767</td>\n",
       "      <td>1.724135</td>\n",
       "      <td>1.629180</td>\n",
       "      <td>1.479055</td>\n",
       "    </tr>\n",
       "  </tbody>\n",
       "</table>\n",
       "</div>"
      ],
      "text/plain": [
       "          carat     depth     table         x         y         z\n",
       "29477 -1.007784 -0.316595 -0.647912 -1.187006 -1.122457 -1.191717\n",
       "52542 -0.166198 -0.038325 -1.095448  0.023744  0.062997  0.043156\n",
       "8725  -0.881547  0.170377 -1.095448 -0.946636 -0.880174 -0.904537\n",
       "15577  0.422912  0.587782 -0.647912  0.557898  0.564868  0.646234\n",
       "19651  1.895688 -1.360107  1.589767  1.724135  1.629180  1.479055"
      ]
     },
     "execution_count": 17,
     "metadata": {},
     "output_type": "execute_result"
    }
   ],
   "source": [
    "# scaling the numerical features\n",
    "from sklearn.preprocessing import StandardScaler\n",
    "\n",
    "scaler = StandardScaler()\n",
    "\n",
    "# column names are (annoyingly) lost after Scaling\n",
    "# (i.e. the dataframe is converted to a numpy ndarray)\n",
    "\n",
    "X_train_num_rescaled = pd.DataFrame(scaler.fit_transform(X_train_num), \n",
    "                                    columns = X_train_num.columns, \n",
    "                                    index = X_train_num.index)\n",
    "\n",
    "X_train_num_rescaled.head()"
   ]
  },
  {
   "cell_type": "markdown",
   "id": "2eef99d8",
   "metadata": {},
   "source": [
    "# d. Applying OneHotEncoding on Categorical Columns"
   ]
  },
  {
   "cell_type": "code",
   "execution_count": 18,
   "id": "42856f59",
   "metadata": {},
   "outputs": [
    {
     "data": {
      "text/plain": [
       "Ideal        0.400339\n",
       "Premium      0.254224\n",
       "Very Good    0.224006\n",
       "Good         0.092033\n",
       "Fair         0.029398\n",
       "Name: cut, dtype: float64"
      ]
     },
     "execution_count": 18,
     "metadata": {},
     "output_type": "execute_result"
    }
   ],
   "source": [
    "X_train_cat['cut'].value_counts(normalize=True)"
   ]
  },
  {
   "cell_type": "code",
   "execution_count": 19,
   "id": "7057f33e",
   "metadata": {},
   "outputs": [
    {
     "data": {
      "text/plain": [
       "G    0.210419\n",
       "E    0.181736\n",
       "F    0.178479\n",
       "H    0.153583\n",
       "D    0.122888\n",
       "I    0.100244\n",
       "J    0.052651\n",
       "Name: color, dtype: float64"
      ]
     },
     "execution_count": 19,
     "metadata": {},
     "output_type": "execute_result"
    }
   ],
   "source": [
    "X_train_cat['color'].value_counts(normalize=True)"
   ]
  },
  {
   "cell_type": "code",
   "execution_count": 20,
   "id": "0ce991cb",
   "metadata": {},
   "outputs": [
    {
     "data": {
      "text/plain": [
       "SI1     0.242094\n",
       "VS2     0.226283\n",
       "SI2     0.169765\n",
       "VS1     0.152153\n",
       "VVS2    0.095212\n",
       "VVS1    0.068515\n",
       "IF      0.032602\n",
       "I1      0.013375\n",
       "Name: clarity, dtype: float64"
      ]
     },
     "execution_count": 20,
     "metadata": {},
     "output_type": "execute_result"
    }
   ],
   "source": [
    "X_train_cat['clarity'].value_counts(normalize=True)"
   ]
  },
  {
   "cell_type": "code",
   "execution_count": 21,
   "id": "4eff8489",
   "metadata": {},
   "outputs": [
    {
     "data": {
      "text/html": [
       "<div>\n",
       "<style scoped>\n",
       "    .dataframe tbody tr th:only-of-type {\n",
       "        vertical-align: middle;\n",
       "    }\n",
       "\n",
       "    .dataframe tbody tr th {\n",
       "        vertical-align: top;\n",
       "    }\n",
       "\n",
       "    .dataframe thead th {\n",
       "        text-align: right;\n",
       "    }\n",
       "</style>\n",
       "<table border=\"1\" class=\"dataframe\">\n",
       "  <thead>\n",
       "    <tr style=\"text-align: right;\">\n",
       "      <th></th>\n",
       "      <th>cut_Good</th>\n",
       "      <th>cut_Ideal</th>\n",
       "      <th>cut_Premium</th>\n",
       "      <th>cut_Very Good</th>\n",
       "      <th>color_E</th>\n",
       "      <th>color_F</th>\n",
       "      <th>color_G</th>\n",
       "      <th>color_H</th>\n",
       "      <th>color_I</th>\n",
       "      <th>color_J</th>\n",
       "      <th>clarity_IF</th>\n",
       "      <th>clarity_SI1</th>\n",
       "      <th>clarity_SI2</th>\n",
       "      <th>clarity_VS1</th>\n",
       "      <th>clarity_VS2</th>\n",
       "      <th>clarity_VVS1</th>\n",
       "      <th>clarity_VVS2</th>\n",
       "    </tr>\n",
       "  </thead>\n",
       "  <tbody>\n",
       "    <tr>\n",
       "      <th>29477</th>\n",
       "      <td>0.0</td>\n",
       "      <td>1.0</td>\n",
       "      <td>0.0</td>\n",
       "      <td>0.0</td>\n",
       "      <td>0.0</td>\n",
       "      <td>1.0</td>\n",
       "      <td>0.0</td>\n",
       "      <td>0.0</td>\n",
       "      <td>0.0</td>\n",
       "      <td>0.0</td>\n",
       "      <td>0.0</td>\n",
       "      <td>0.0</td>\n",
       "      <td>0.0</td>\n",
       "      <td>1.0</td>\n",
       "      <td>0.0</td>\n",
       "      <td>0.0</td>\n",
       "      <td>0.0</td>\n",
       "    </tr>\n",
       "    <tr>\n",
       "      <th>52542</th>\n",
       "      <td>0.0</td>\n",
       "      <td>0.0</td>\n",
       "      <td>0.0</td>\n",
       "      <td>1.0</td>\n",
       "      <td>0.0</td>\n",
       "      <td>0.0</td>\n",
       "      <td>0.0</td>\n",
       "      <td>0.0</td>\n",
       "      <td>1.0</td>\n",
       "      <td>0.0</td>\n",
       "      <td>0.0</td>\n",
       "      <td>0.0</td>\n",
       "      <td>0.0</td>\n",
       "      <td>0.0</td>\n",
       "      <td>0.0</td>\n",
       "      <td>0.0</td>\n",
       "      <td>1.0</td>\n",
       "    </tr>\n",
       "    <tr>\n",
       "      <th>8725</th>\n",
       "      <td>0.0</td>\n",
       "      <td>0.0</td>\n",
       "      <td>0.0</td>\n",
       "      <td>1.0</td>\n",
       "      <td>0.0</td>\n",
       "      <td>0.0</td>\n",
       "      <td>0.0</td>\n",
       "      <td>0.0</td>\n",
       "      <td>0.0</td>\n",
       "      <td>0.0</td>\n",
       "      <td>0.0</td>\n",
       "      <td>1.0</td>\n",
       "      <td>0.0</td>\n",
       "      <td>0.0</td>\n",
       "      <td>0.0</td>\n",
       "      <td>0.0</td>\n",
       "      <td>0.0</td>\n",
       "    </tr>\n",
       "    <tr>\n",
       "      <th>15577</th>\n",
       "      <td>0.0</td>\n",
       "      <td>0.0</td>\n",
       "      <td>0.0</td>\n",
       "      <td>1.0</td>\n",
       "      <td>0.0</td>\n",
       "      <td>0.0</td>\n",
       "      <td>0.0</td>\n",
       "      <td>1.0</td>\n",
       "      <td>0.0</td>\n",
       "      <td>0.0</td>\n",
       "      <td>0.0</td>\n",
       "      <td>0.0</td>\n",
       "      <td>0.0</td>\n",
       "      <td>0.0</td>\n",
       "      <td>0.0</td>\n",
       "      <td>0.0</td>\n",
       "      <td>1.0</td>\n",
       "    </tr>\n",
       "    <tr>\n",
       "      <th>19651</th>\n",
       "      <td>0.0</td>\n",
       "      <td>0.0</td>\n",
       "      <td>1.0</td>\n",
       "      <td>0.0</td>\n",
       "      <td>0.0</td>\n",
       "      <td>0.0</td>\n",
       "      <td>0.0</td>\n",
       "      <td>1.0</td>\n",
       "      <td>0.0</td>\n",
       "      <td>0.0</td>\n",
       "      <td>0.0</td>\n",
       "      <td>0.0</td>\n",
       "      <td>1.0</td>\n",
       "      <td>0.0</td>\n",
       "      <td>0.0</td>\n",
       "      <td>0.0</td>\n",
       "      <td>0.0</td>\n",
       "    </tr>\n",
       "  </tbody>\n",
       "</table>\n",
       "</div>"
      ],
      "text/plain": [
       "       cut_Good  cut_Ideal  cut_Premium  cut_Very Good  color_E  color_F  \\\n",
       "29477       0.0        1.0          0.0            0.0      0.0      1.0   \n",
       "52542       0.0        0.0          0.0            1.0      0.0      0.0   \n",
       "8725        0.0        0.0          0.0            1.0      0.0      0.0   \n",
       "15577       0.0        0.0          0.0            1.0      0.0      0.0   \n",
       "19651       0.0        0.0          1.0            0.0      0.0      0.0   \n",
       "\n",
       "       color_G  color_H  color_I  color_J  clarity_IF  clarity_SI1  \\\n",
       "29477      0.0      0.0      0.0      0.0         0.0          0.0   \n",
       "52542      0.0      0.0      1.0      0.0         0.0          0.0   \n",
       "8725       0.0      0.0      0.0      0.0         0.0          1.0   \n",
       "15577      0.0      1.0      0.0      0.0         0.0          0.0   \n",
       "19651      0.0      1.0      0.0      0.0         0.0          0.0   \n",
       "\n",
       "       clarity_SI2  clarity_VS1  clarity_VS2  clarity_VVS1  clarity_VVS2  \n",
       "29477          0.0          1.0          0.0           0.0           0.0  \n",
       "52542          0.0          0.0          0.0           0.0           1.0  \n",
       "8725           0.0          0.0          0.0           0.0           0.0  \n",
       "15577          0.0          0.0          0.0           0.0           1.0  \n",
       "19651          1.0          0.0          0.0           0.0           0.0  "
      ]
     },
     "execution_count": 21,
     "metadata": {},
     "output_type": "execute_result"
    }
   ],
   "source": [
    "from sklearn.preprocessing import OneHotEncoder\n",
    "\n",
    "encoder_ = OneHotEncoder(drop='first',  sparse=False)\n",
    "\n",
    "# column names are (annoyingly) lost after OneHotEncoding\n",
    "# (i.e. the dataframe is converted to a numpy ndarray)\n",
    "\n",
    "X_train_cat_ohe = pd.DataFrame(encoder_.fit_transform(X_train_cat), \n",
    "                               columns=encoder_.get_feature_names_out(X_train_cat.columns), \n",
    "                               index = X_train_cat.index)\n",
    "\n",
    "X_train_cat_ohe.head()"
   ]
  },
  {
   "cell_type": "code",
   "execution_count": 22,
   "id": "b3f1ccec",
   "metadata": {},
   "outputs": [
    {
     "data": {
      "text/plain": [
       "[array(['Fair', 'Good', 'Ideal', 'Premium', 'Very Good'], dtype=object),\n",
       " array(['D', 'E', 'F', 'G', 'H', 'I', 'J'], dtype=object),\n",
       " array(['I1', 'IF', 'SI1', 'SI2', 'VS1', 'VS2', 'VVS1', 'VVS2'],\n",
       "       dtype=object)]"
      ]
     },
     "execution_count": 22,
     "metadata": {},
     "output_type": "execute_result"
    }
   ],
   "source": [
    "encoder_.categories_"
   ]
  },
  {
   "cell_type": "code",
   "execution_count": 23,
   "id": "9388c057",
   "metadata": {},
   "outputs": [
    {
     "data": {
      "text/html": [
       "<div>\n",
       "<style scoped>\n",
       "    .dataframe tbody tr th:only-of-type {\n",
       "        vertical-align: middle;\n",
       "    }\n",
       "\n",
       "    .dataframe tbody tr th {\n",
       "        vertical-align: top;\n",
       "    }\n",
       "\n",
       "    .dataframe thead th {\n",
       "        text-align: right;\n",
       "    }\n",
       "</style>\n",
       "<table border=\"1\" class=\"dataframe\">\n",
       "  <thead>\n",
       "    <tr style=\"text-align: right;\">\n",
       "      <th></th>\n",
       "      <th>cut_Good</th>\n",
       "      <th>cut_Ideal</th>\n",
       "      <th>cut_Premium</th>\n",
       "      <th>cut_Very Good</th>\n",
       "      <th>color_E</th>\n",
       "      <th>color_F</th>\n",
       "      <th>color_G</th>\n",
       "      <th>color_H</th>\n",
       "      <th>color_I</th>\n",
       "      <th>color_J</th>\n",
       "      <th>clarity_IF</th>\n",
       "      <th>clarity_SI1</th>\n",
       "      <th>clarity_SI2</th>\n",
       "      <th>clarity_VS1</th>\n",
       "      <th>clarity_VS2</th>\n",
       "      <th>clarity_VVS1</th>\n",
       "      <th>clarity_VVS2</th>\n",
       "    </tr>\n",
       "  </thead>\n",
       "  <tbody>\n",
       "    <tr>\n",
       "      <th>29477</th>\n",
       "      <td>0.0</td>\n",
       "      <td>1.0</td>\n",
       "      <td>0.0</td>\n",
       "      <td>0.0</td>\n",
       "      <td>0.0</td>\n",
       "      <td>1.0</td>\n",
       "      <td>0.0</td>\n",
       "      <td>0.0</td>\n",
       "      <td>0.0</td>\n",
       "      <td>0.0</td>\n",
       "      <td>0.0</td>\n",
       "      <td>0.0</td>\n",
       "      <td>0.0</td>\n",
       "      <td>1.0</td>\n",
       "      <td>0.0</td>\n",
       "      <td>0.0</td>\n",
       "      <td>0.0</td>\n",
       "    </tr>\n",
       "    <tr>\n",
       "      <th>52542</th>\n",
       "      <td>0.0</td>\n",
       "      <td>0.0</td>\n",
       "      <td>0.0</td>\n",
       "      <td>1.0</td>\n",
       "      <td>0.0</td>\n",
       "      <td>0.0</td>\n",
       "      <td>0.0</td>\n",
       "      <td>0.0</td>\n",
       "      <td>1.0</td>\n",
       "      <td>0.0</td>\n",
       "      <td>0.0</td>\n",
       "      <td>0.0</td>\n",
       "      <td>0.0</td>\n",
       "      <td>0.0</td>\n",
       "      <td>0.0</td>\n",
       "      <td>0.0</td>\n",
       "      <td>1.0</td>\n",
       "    </tr>\n",
       "    <tr>\n",
       "      <th>8725</th>\n",
       "      <td>0.0</td>\n",
       "      <td>0.0</td>\n",
       "      <td>0.0</td>\n",
       "      <td>1.0</td>\n",
       "      <td>0.0</td>\n",
       "      <td>0.0</td>\n",
       "      <td>0.0</td>\n",
       "      <td>0.0</td>\n",
       "      <td>0.0</td>\n",
       "      <td>0.0</td>\n",
       "      <td>0.0</td>\n",
       "      <td>1.0</td>\n",
       "      <td>0.0</td>\n",
       "      <td>0.0</td>\n",
       "      <td>0.0</td>\n",
       "      <td>0.0</td>\n",
       "      <td>0.0</td>\n",
       "    </tr>\n",
       "    <tr>\n",
       "      <th>15577</th>\n",
       "      <td>0.0</td>\n",
       "      <td>0.0</td>\n",
       "      <td>0.0</td>\n",
       "      <td>1.0</td>\n",
       "      <td>0.0</td>\n",
       "      <td>0.0</td>\n",
       "      <td>0.0</td>\n",
       "      <td>1.0</td>\n",
       "      <td>0.0</td>\n",
       "      <td>0.0</td>\n",
       "      <td>0.0</td>\n",
       "      <td>0.0</td>\n",
       "      <td>0.0</td>\n",
       "      <td>0.0</td>\n",
       "      <td>0.0</td>\n",
       "      <td>0.0</td>\n",
       "      <td>1.0</td>\n",
       "    </tr>\n",
       "    <tr>\n",
       "      <th>19651</th>\n",
       "      <td>0.0</td>\n",
       "      <td>0.0</td>\n",
       "      <td>1.0</td>\n",
       "      <td>0.0</td>\n",
       "      <td>0.0</td>\n",
       "      <td>0.0</td>\n",
       "      <td>0.0</td>\n",
       "      <td>1.0</td>\n",
       "      <td>0.0</td>\n",
       "      <td>0.0</td>\n",
       "      <td>0.0</td>\n",
       "      <td>0.0</td>\n",
       "      <td>1.0</td>\n",
       "      <td>0.0</td>\n",
       "      <td>0.0</td>\n",
       "      <td>0.0</td>\n",
       "      <td>0.0</td>\n",
       "    </tr>\n",
       "  </tbody>\n",
       "</table>\n",
       "</div>"
      ],
      "text/plain": [
       "       cut_Good  cut_Ideal  cut_Premium  cut_Very Good  color_E  color_F  \\\n",
       "29477       0.0        1.0          0.0            0.0      0.0      1.0   \n",
       "52542       0.0        0.0          0.0            1.0      0.0      0.0   \n",
       "8725        0.0        0.0          0.0            1.0      0.0      0.0   \n",
       "15577       0.0        0.0          0.0            1.0      0.0      0.0   \n",
       "19651       0.0        0.0          1.0            0.0      0.0      0.0   \n",
       "\n",
       "       color_G  color_H  color_I  color_J  clarity_IF  clarity_SI1  \\\n",
       "29477      0.0      0.0      0.0      0.0         0.0          0.0   \n",
       "52542      0.0      0.0      1.0      0.0         0.0          0.0   \n",
       "8725       0.0      0.0      0.0      0.0         0.0          1.0   \n",
       "15577      0.0      1.0      0.0      0.0         0.0          0.0   \n",
       "19651      0.0      1.0      0.0      0.0         0.0          0.0   \n",
       "\n",
       "       clarity_SI2  clarity_VS1  clarity_VS2  clarity_VVS1  clarity_VVS2  \n",
       "29477          0.0          1.0          0.0           0.0           0.0  \n",
       "52542          0.0          0.0          0.0           0.0           1.0  \n",
       "8725           0.0          0.0          0.0           0.0           0.0  \n",
       "15577          0.0          0.0          0.0           0.0           1.0  \n",
       "19651          1.0          0.0          0.0           0.0           0.0  "
      ]
     },
     "execution_count": 23,
     "metadata": {},
     "output_type": "execute_result"
    }
   ],
   "source": [
    "from sklearn.preprocessing import OneHotEncoder\n",
    "\n",
    "encoder = OneHotEncoder(drop='first', sparse=False)\n",
    "\n",
    "# column names are (annoyingly) lost after OneHotEncoding\n",
    "# (i.e. the dataframe is converted to a numpy ndarray)\n",
    "\n",
    "X_train_cat_ohe = pd.DataFrame(encoder.fit_transform(X_train_cat), \n",
    "                               columns=encoder.get_feature_names_out(X_train_cat.columns), \n",
    "                               index = X_train_cat.index)\n",
    "\n",
    "X_train_cat_ohe.head()"
   ]
  },
  {
   "cell_type": "markdown",
   "id": "afab83b7",
   "metadata": {},
   "source": [
    "# e. Applying Label Encoding on Categorical Columns"
   ]
  },
  {
   "cell_type": "code",
   "execution_count": 24,
   "id": "67c6672a",
   "metadata": {},
   "outputs": [
    {
     "data": {
      "text/html": [
       "<div>\n",
       "<style scoped>\n",
       "    .dataframe tbody tr th:only-of-type {\n",
       "        vertical-align: middle;\n",
       "    }\n",
       "\n",
       "    .dataframe tbody tr th {\n",
       "        vertical-align: top;\n",
       "    }\n",
       "\n",
       "    .dataframe thead th {\n",
       "        text-align: right;\n",
       "    }\n",
       "</style>\n",
       "<table border=\"1\" class=\"dataframe\">\n",
       "  <thead>\n",
       "    <tr style=\"text-align: right;\">\n",
       "      <th></th>\n",
       "    </tr>\n",
       "  </thead>\n",
       "  <tbody>\n",
       "    <tr>\n",
       "      <th>29477</th>\n",
       "    </tr>\n",
       "    <tr>\n",
       "      <th>52542</th>\n",
       "    </tr>\n",
       "    <tr>\n",
       "      <th>8725</th>\n",
       "    </tr>\n",
       "    <tr>\n",
       "      <th>15577</th>\n",
       "    </tr>\n",
       "    <tr>\n",
       "      <th>19651</th>\n",
       "    </tr>\n",
       "  </tbody>\n",
       "</table>\n",
       "</div>"
      ],
      "text/plain": [
       "Empty DataFrame\n",
       "Columns: []\n",
       "Index: [29477, 52542, 8725, 15577, 19651]"
      ]
     },
     "execution_count": 24,
     "metadata": {},
     "output_type": "execute_result"
    }
   ],
   "source": [
    "X_train_cat_le = pd.DataFrame(index=X_train_cat.index)\n",
    "\n",
    "X_train_cat_le.head()"
   ]
  },
  {
   "cell_type": "code",
   "execution_count": 25,
   "id": "33db56b3",
   "metadata": {},
   "outputs": [
    {
     "data": {
      "text/plain": [
       "array(['Ideal', 'Very Good', 'Premium', 'Good', 'Fair'], dtype=object)"
      ]
     },
     "execution_count": 25,
     "metadata": {},
     "output_type": "execute_result"
    }
   ],
   "source": [
    "X_train_cat.cut.unique()"
   ]
  },
  {
   "cell_type": "code",
   "execution_count": 26,
   "id": "72c212b1",
   "metadata": {},
   "outputs": [
    {
     "data": {
      "text/html": [
       "<div>\n",
       "<style scoped>\n",
       "    .dataframe tbody tr th:only-of-type {\n",
       "        vertical-align: middle;\n",
       "    }\n",
       "\n",
       "    .dataframe tbody tr th {\n",
       "        vertical-align: top;\n",
       "    }\n",
       "\n",
       "    .dataframe thead th {\n",
       "        text-align: right;\n",
       "    }\n",
       "</style>\n",
       "<table border=\"1\" class=\"dataframe\">\n",
       "  <thead>\n",
       "    <tr style=\"text-align: right;\">\n",
       "      <th></th>\n",
       "      <th>cut</th>\n",
       "    </tr>\n",
       "  </thead>\n",
       "  <tbody>\n",
       "    <tr>\n",
       "      <th>29477</th>\n",
       "      <td>4</td>\n",
       "    </tr>\n",
       "    <tr>\n",
       "      <th>52542</th>\n",
       "      <td>3</td>\n",
       "    </tr>\n",
       "    <tr>\n",
       "      <th>8725</th>\n",
       "      <td>3</td>\n",
       "    </tr>\n",
       "    <tr>\n",
       "      <th>15577</th>\n",
       "      <td>3</td>\n",
       "    </tr>\n",
       "    <tr>\n",
       "      <th>19651</th>\n",
       "      <td>5</td>\n",
       "    </tr>\n",
       "  </tbody>\n",
       "</table>\n",
       "</div>"
      ],
      "text/plain": [
       "       cut\n",
       "29477    4\n",
       "52542    3\n",
       "8725     3\n",
       "15577    3\n",
       "19651    5"
      ]
     },
     "execution_count": 26,
     "metadata": {},
     "output_type": "execute_result"
    }
   ],
   "source": [
    "cut_encoder = {'Fair' : 1, 'Good' : 2, 'Very Good' : 3, 'Ideal' : 4, 'Premium' : 5}\n",
    "\n",
    "X_train_cat_le['cut'] = X_train_cat['cut'].apply(lambda x : cut_encoder[x])\n",
    "\n",
    "X_train_cat_le.head()"
   ]
  },
  {
   "cell_type": "code",
   "execution_count": 27,
   "id": "68a2546a",
   "metadata": {},
   "outputs": [
    {
     "data": {
      "text/plain": [
       "array(['F', 'I', 'D', 'H', 'G', 'E', 'J'], dtype=object)"
      ]
     },
     "execution_count": 27,
     "metadata": {},
     "output_type": "execute_result"
    }
   ],
   "source": [
    "X_train_cat.color.unique()"
   ]
  },
  {
   "cell_type": "code",
   "execution_count": 28,
   "id": "b6db4e0b",
   "metadata": {},
   "outputs": [
    {
     "data": {
      "text/html": [
       "<div>\n",
       "<style scoped>\n",
       "    .dataframe tbody tr th:only-of-type {\n",
       "        vertical-align: middle;\n",
       "    }\n",
       "\n",
       "    .dataframe tbody tr th {\n",
       "        vertical-align: top;\n",
       "    }\n",
       "\n",
       "    .dataframe thead th {\n",
       "        text-align: right;\n",
       "    }\n",
       "</style>\n",
       "<table border=\"1\" class=\"dataframe\">\n",
       "  <thead>\n",
       "    <tr style=\"text-align: right;\">\n",
       "      <th></th>\n",
       "      <th>cut</th>\n",
       "      <th>color</th>\n",
       "    </tr>\n",
       "  </thead>\n",
       "  <tbody>\n",
       "    <tr>\n",
       "      <th>29477</th>\n",
       "      <td>4</td>\n",
       "      <td>5</td>\n",
       "    </tr>\n",
       "    <tr>\n",
       "      <th>52542</th>\n",
       "      <td>3</td>\n",
       "      <td>2</td>\n",
       "    </tr>\n",
       "    <tr>\n",
       "      <th>8725</th>\n",
       "      <td>3</td>\n",
       "      <td>7</td>\n",
       "    </tr>\n",
       "    <tr>\n",
       "      <th>15577</th>\n",
       "      <td>3</td>\n",
       "      <td>3</td>\n",
       "    </tr>\n",
       "    <tr>\n",
       "      <th>19651</th>\n",
       "      <td>5</td>\n",
       "      <td>3</td>\n",
       "    </tr>\n",
       "  </tbody>\n",
       "</table>\n",
       "</div>"
      ],
      "text/plain": [
       "       cut  color\n",
       "29477    4      5\n",
       "52542    3      2\n",
       "8725     3      7\n",
       "15577    3      3\n",
       "19651    5      3"
      ]
     },
     "execution_count": 28,
     "metadata": {},
     "output_type": "execute_result"
    }
   ],
   "source": [
    "color_encoder = {'J':1, 'I':2, 'H':3, 'G':4, 'F':5, 'E':6, 'D':7}\n",
    "\n",
    "X_train_cat_le['color'] = X_train_cat['color'].apply(lambda x : color_encoder[x])\n",
    "\n",
    "X_train_cat_le.head()"
   ]
  },
  {
   "cell_type": "code",
   "execution_count": 29,
   "id": "b7b2454a",
   "metadata": {},
   "outputs": [
    {
     "data": {
      "text/plain": [
       "array(['VS1', 'VVS2', 'SI1', 'SI2', 'VVS1', 'VS2', 'I1', 'IF'],\n",
       "      dtype=object)"
      ]
     },
     "execution_count": 29,
     "metadata": {},
     "output_type": "execute_result"
    }
   ],
   "source": [
    "X_train_cat.clarity.unique()"
   ]
  },
  {
   "cell_type": "code",
   "execution_count": 30,
   "id": "27ab8682",
   "metadata": {},
   "outputs": [
    {
     "data": {
      "text/html": [
       "<div>\n",
       "<style scoped>\n",
       "    .dataframe tbody tr th:only-of-type {\n",
       "        vertical-align: middle;\n",
       "    }\n",
       "\n",
       "    .dataframe tbody tr th {\n",
       "        vertical-align: top;\n",
       "    }\n",
       "\n",
       "    .dataframe thead th {\n",
       "        text-align: right;\n",
       "    }\n",
       "</style>\n",
       "<table border=\"1\" class=\"dataframe\">\n",
       "  <thead>\n",
       "    <tr style=\"text-align: right;\">\n",
       "      <th></th>\n",
       "      <th>cut</th>\n",
       "      <th>color</th>\n",
       "      <th>clarity</th>\n",
       "    </tr>\n",
       "  </thead>\n",
       "  <tbody>\n",
       "    <tr>\n",
       "      <th>29477</th>\n",
       "      <td>4</td>\n",
       "      <td>5</td>\n",
       "      <td>5</td>\n",
       "    </tr>\n",
       "    <tr>\n",
       "      <th>52542</th>\n",
       "      <td>3</td>\n",
       "      <td>2</td>\n",
       "      <td>6</td>\n",
       "    </tr>\n",
       "    <tr>\n",
       "      <th>8725</th>\n",
       "      <td>3</td>\n",
       "      <td>7</td>\n",
       "      <td>3</td>\n",
       "    </tr>\n",
       "    <tr>\n",
       "      <th>15577</th>\n",
       "      <td>3</td>\n",
       "      <td>3</td>\n",
       "      <td>6</td>\n",
       "    </tr>\n",
       "    <tr>\n",
       "      <th>19651</th>\n",
       "      <td>5</td>\n",
       "      <td>3</td>\n",
       "      <td>2</td>\n",
       "    </tr>\n",
       "  </tbody>\n",
       "</table>\n",
       "</div>"
      ],
      "text/plain": [
       "       cut  color  clarity\n",
       "29477    4      5        5\n",
       "52542    3      2        6\n",
       "8725     3      7        3\n",
       "15577    3      3        6\n",
       "19651    5      3        2"
      ]
     },
     "execution_count": 30,
     "metadata": {},
     "output_type": "execute_result"
    }
   ],
   "source": [
    "clarity_encoder = {'I1':1, 'SI2':2, 'SI1':3, 'VS2':4, 'VS1':5, 'VVS2':6, 'VVS1':7, 'IF':8}\n",
    "\n",
    "X_train_cat_le['clarity'] = X_train_cat['clarity'].apply(lambda x : clarity_encoder[x])\n",
    "\n",
    "X_train_cat_le.head()"
   ]
  },
  {
   "cell_type": "markdown",
   "id": "fb9e27a4",
   "metadata": {},
   "source": [
    "# f. Concatinating the Encoded Categorical Features and Rescaled Numerical Features:"
   ]
  },
  {
   "cell_type": "code",
   "execution_count": 31,
   "id": "31f89a5e",
   "metadata": {},
   "outputs": [
    {
     "data": {
      "text/html": [
       "<div>\n",
       "<style scoped>\n",
       "    .dataframe tbody tr th:only-of-type {\n",
       "        vertical-align: middle;\n",
       "    }\n",
       "\n",
       "    .dataframe tbody tr th {\n",
       "        vertical-align: top;\n",
       "    }\n",
       "\n",
       "    .dataframe thead th {\n",
       "        text-align: right;\n",
       "    }\n",
       "</style>\n",
       "<table border=\"1\" class=\"dataframe\">\n",
       "  <thead>\n",
       "    <tr style=\"text-align: right;\">\n",
       "      <th></th>\n",
       "      <th>carat</th>\n",
       "      <th>depth</th>\n",
       "      <th>table</th>\n",
       "      <th>x</th>\n",
       "      <th>y</th>\n",
       "      <th>z</th>\n",
       "      <th>cut</th>\n",
       "      <th>color</th>\n",
       "      <th>clarity</th>\n",
       "    </tr>\n",
       "  </thead>\n",
       "  <tbody>\n",
       "    <tr>\n",
       "      <th>29477</th>\n",
       "      <td>-1.007784</td>\n",
       "      <td>-0.316595</td>\n",
       "      <td>-0.647912</td>\n",
       "      <td>-1.187006</td>\n",
       "      <td>-1.122457</td>\n",
       "      <td>-1.191717</td>\n",
       "      <td>4</td>\n",
       "      <td>5</td>\n",
       "      <td>5</td>\n",
       "    </tr>\n",
       "    <tr>\n",
       "      <th>52542</th>\n",
       "      <td>-0.166198</td>\n",
       "      <td>-0.038325</td>\n",
       "      <td>-1.095448</td>\n",
       "      <td>0.023744</td>\n",
       "      <td>0.062997</td>\n",
       "      <td>0.043156</td>\n",
       "      <td>3</td>\n",
       "      <td>2</td>\n",
       "      <td>6</td>\n",
       "    </tr>\n",
       "    <tr>\n",
       "      <th>8725</th>\n",
       "      <td>-0.881547</td>\n",
       "      <td>0.170377</td>\n",
       "      <td>-1.095448</td>\n",
       "      <td>-0.946636</td>\n",
       "      <td>-0.880174</td>\n",
       "      <td>-0.904537</td>\n",
       "      <td>3</td>\n",
       "      <td>7</td>\n",
       "      <td>3</td>\n",
       "    </tr>\n",
       "    <tr>\n",
       "      <th>15577</th>\n",
       "      <td>0.422912</td>\n",
       "      <td>0.587782</td>\n",
       "      <td>-0.647912</td>\n",
       "      <td>0.557898</td>\n",
       "      <td>0.564868</td>\n",
       "      <td>0.646234</td>\n",
       "      <td>3</td>\n",
       "      <td>3</td>\n",
       "      <td>6</td>\n",
       "    </tr>\n",
       "    <tr>\n",
       "      <th>19651</th>\n",
       "      <td>1.895688</td>\n",
       "      <td>-1.360107</td>\n",
       "      <td>1.589767</td>\n",
       "      <td>1.724135</td>\n",
       "      <td>1.629180</td>\n",
       "      <td>1.479055</td>\n",
       "      <td>5</td>\n",
       "      <td>3</td>\n",
       "      <td>2</td>\n",
       "    </tr>\n",
       "  </tbody>\n",
       "</table>\n",
       "</div>"
      ],
      "text/plain": [
       "          carat     depth     table         x         y         z  cut  color  \\\n",
       "29477 -1.007784 -0.316595 -0.647912 -1.187006 -1.122457 -1.191717    4      5   \n",
       "52542 -0.166198 -0.038325 -1.095448  0.023744  0.062997  0.043156    3      2   \n",
       "8725  -0.881547  0.170377 -1.095448 -0.946636 -0.880174 -0.904537    3      7   \n",
       "15577  0.422912  0.587782 -0.647912  0.557898  0.564868  0.646234    3      3   \n",
       "19651  1.895688 -1.360107  1.589767  1.724135  1.629180  1.479055    5      3   \n",
       "\n",
       "       clarity  \n",
       "29477        5  \n",
       "52542        6  \n",
       "8725         3  \n",
       "15577        6  \n",
       "19651        2  "
      ]
     },
     "execution_count": 31,
     "metadata": {},
     "output_type": "execute_result"
    }
   ],
   "source": [
    "X_train_transformed = pd.concat([X_train_num_rescaled, X_train_cat_le], axis=1)\n",
    "\n",
    "X_train_transformed.head()"
   ]
  },
  {
   "cell_type": "markdown",
   "id": "bb562488",
   "metadata": {},
   "source": [
    "# g. Preparing Test Data"
   ]
  },
  {
   "cell_type": "code",
   "execution_count": 32,
   "id": "6986e787",
   "metadata": {},
   "outputs": [
    {
     "data": {
      "text/html": [
       "<div>\n",
       "<style scoped>\n",
       "    .dataframe tbody tr th:only-of-type {\n",
       "        vertical-align: middle;\n",
       "    }\n",
       "\n",
       "    .dataframe tbody tr th {\n",
       "        vertical-align: top;\n",
       "    }\n",
       "\n",
       "    .dataframe thead th {\n",
       "        text-align: right;\n",
       "    }\n",
       "</style>\n",
       "<table border=\"1\" class=\"dataframe\">\n",
       "  <thead>\n",
       "    <tr style=\"text-align: right;\">\n",
       "      <th></th>\n",
       "      <th>carat</th>\n",
       "      <th>cut</th>\n",
       "      <th>color</th>\n",
       "      <th>clarity</th>\n",
       "      <th>depth</th>\n",
       "      <th>table</th>\n",
       "      <th>x</th>\n",
       "      <th>y</th>\n",
       "      <th>z</th>\n",
       "    </tr>\n",
       "  </thead>\n",
       "  <tbody>\n",
       "    <tr>\n",
       "      <th>52264</th>\n",
       "      <td>0.57</td>\n",
       "      <td>Ideal</td>\n",
       "      <td>E</td>\n",
       "      <td>VS2</td>\n",
       "      <td>61.5</td>\n",
       "      <td>57.0</td>\n",
       "      <td>5.35</td>\n",
       "      <td>5.32</td>\n",
       "      <td>3.28</td>\n",
       "    </tr>\n",
       "    <tr>\n",
       "      <th>21073</th>\n",
       "      <td>1.16</td>\n",
       "      <td>Ideal</td>\n",
       "      <td>G</td>\n",
       "      <td>VS1</td>\n",
       "      <td>61.5</td>\n",
       "      <td>55.0</td>\n",
       "      <td>6.75</td>\n",
       "      <td>6.81</td>\n",
       "      <td>4.17</td>\n",
       "    </tr>\n",
       "    <tr>\n",
       "      <th>42161</th>\n",
       "      <td>0.51</td>\n",
       "      <td>Ideal</td>\n",
       "      <td>G</td>\n",
       "      <td>SI1</td>\n",
       "      <td>63.2</td>\n",
       "      <td>58.0</td>\n",
       "      <td>5.05</td>\n",
       "      <td>5.08</td>\n",
       "      <td>3.20</td>\n",
       "    </tr>\n",
       "    <tr>\n",
       "      <th>35974</th>\n",
       "      <td>0.42</td>\n",
       "      <td>Ideal</td>\n",
       "      <td>F</td>\n",
       "      <td>VS1</td>\n",
       "      <td>60.6</td>\n",
       "      <td>56.0</td>\n",
       "      <td>4.83</td>\n",
       "      <td>4.87</td>\n",
       "      <td>2.94</td>\n",
       "    </tr>\n",
       "    <tr>\n",
       "      <th>7641</th>\n",
       "      <td>0.80</td>\n",
       "      <td>Premium</td>\n",
       "      <td>G</td>\n",
       "      <td>IF</td>\n",
       "      <td>62.6</td>\n",
       "      <td>58.0</td>\n",
       "      <td>5.89</td>\n",
       "      <td>5.93</td>\n",
       "      <td>3.70</td>\n",
       "    </tr>\n",
       "  </tbody>\n",
       "</table>\n",
       "</div>"
      ],
      "text/plain": [
       "       carat      cut color clarity  depth  table     x     y     z\n",
       "52264   0.57    Ideal     E     VS2   61.5   57.0  5.35  5.32  3.28\n",
       "21073   1.16    Ideal     G     VS1   61.5   55.0  6.75  6.81  4.17\n",
       "42161   0.51    Ideal     G     SI1   63.2   58.0  5.05  5.08  3.20\n",
       "35974   0.42    Ideal     F     VS1   60.6   56.0  4.83  4.87  2.94\n",
       "7641    0.80  Premium     G      IF   62.6   58.0  5.89  5.93  3.70"
      ]
     },
     "execution_count": 32,
     "metadata": {},
     "output_type": "execute_result"
    }
   ],
   "source": [
    "X_test.head()"
   ]
  },
  {
   "cell_type": "code",
   "execution_count": 33,
   "id": "9a7583f7",
   "metadata": {},
   "outputs": [
    {
     "name": "stdout",
     "output_type": "stream",
     "text": [
      "<class 'pandas.core.frame.DataFrame'>\n",
      "Int64Index: 16182 entries, 52264 to 1319\n",
      "Data columns (total 9 columns):\n",
      " #   Column   Non-Null Count  Dtype  \n",
      "---  ------   --------------  -----  \n",
      " 0   carat    16182 non-null  float64\n",
      " 1   cut      16182 non-null  object \n",
      " 2   color    16182 non-null  object \n",
      " 3   clarity  16182 non-null  object \n",
      " 4   depth    16182 non-null  float64\n",
      " 5   table    16182 non-null  float64\n",
      " 6   x        16182 non-null  float64\n",
      " 7   y        16182 non-null  float64\n",
      " 8   z        16182 non-null  float64\n",
      "dtypes: float64(6), object(3)\n",
      "memory usage: 1.2+ MB\n"
     ]
    }
   ],
   "source": [
    "X_test.info()"
   ]
  },
  {
   "cell_type": "code",
   "execution_count": 34,
   "id": "799699c7",
   "metadata": {},
   "outputs": [
    {
     "data": {
      "text/html": [
       "<div>\n",
       "<style scoped>\n",
       "    .dataframe tbody tr th:only-of-type {\n",
       "        vertical-align: middle;\n",
       "    }\n",
       "\n",
       "    .dataframe tbody tr th {\n",
       "        vertical-align: top;\n",
       "    }\n",
       "\n",
       "    .dataframe thead th {\n",
       "        text-align: right;\n",
       "    }\n",
       "</style>\n",
       "<table border=\"1\" class=\"dataframe\">\n",
       "  <thead>\n",
       "    <tr style=\"text-align: right;\">\n",
       "      <th></th>\n",
       "      <th>cut</th>\n",
       "      <th>color</th>\n",
       "      <th>clarity</th>\n",
       "    </tr>\n",
       "  </thead>\n",
       "  <tbody>\n",
       "    <tr>\n",
       "      <th>52264</th>\n",
       "      <td>Ideal</td>\n",
       "      <td>E</td>\n",
       "      <td>VS2</td>\n",
       "    </tr>\n",
       "    <tr>\n",
       "      <th>21073</th>\n",
       "      <td>Ideal</td>\n",
       "      <td>G</td>\n",
       "      <td>VS1</td>\n",
       "    </tr>\n",
       "    <tr>\n",
       "      <th>42161</th>\n",
       "      <td>Ideal</td>\n",
       "      <td>G</td>\n",
       "      <td>SI1</td>\n",
       "    </tr>\n",
       "    <tr>\n",
       "      <th>35974</th>\n",
       "      <td>Ideal</td>\n",
       "      <td>F</td>\n",
       "      <td>VS1</td>\n",
       "    </tr>\n",
       "    <tr>\n",
       "      <th>7641</th>\n",
       "      <td>Premium</td>\n",
       "      <td>G</td>\n",
       "      <td>IF</td>\n",
       "    </tr>\n",
       "  </tbody>\n",
       "</table>\n",
       "</div>"
      ],
      "text/plain": [
       "           cut color clarity\n",
       "52264    Ideal     E     VS2\n",
       "21073    Ideal     G     VS1\n",
       "42161    Ideal     G     SI1\n",
       "35974    Ideal     F     VS1\n",
       "7641   Premium     G      IF"
      ]
     },
     "execution_count": 34,
     "metadata": {},
     "output_type": "execute_result"
    }
   ],
   "source": [
    "X_test_cat = X_test.select_dtypes(include=['object'])\n",
    "\n",
    "X_test_cat.head()"
   ]
  },
  {
   "cell_type": "code",
   "execution_count": 35,
   "id": "ab4f7263",
   "metadata": {},
   "outputs": [
    {
     "data": {
      "text/html": [
       "<div>\n",
       "<style scoped>\n",
       "    .dataframe tbody tr th:only-of-type {\n",
       "        vertical-align: middle;\n",
       "    }\n",
       "\n",
       "    .dataframe tbody tr th {\n",
       "        vertical-align: top;\n",
       "    }\n",
       "\n",
       "    .dataframe thead th {\n",
       "        text-align: right;\n",
       "    }\n",
       "</style>\n",
       "<table border=\"1\" class=\"dataframe\">\n",
       "  <thead>\n",
       "    <tr style=\"text-align: right;\">\n",
       "      <th></th>\n",
       "      <th>carat</th>\n",
       "      <th>depth</th>\n",
       "      <th>table</th>\n",
       "      <th>x</th>\n",
       "      <th>y</th>\n",
       "      <th>z</th>\n",
       "    </tr>\n",
       "  </thead>\n",
       "  <tbody>\n",
       "    <tr>\n",
       "      <th>52264</th>\n",
       "      <td>0.57</td>\n",
       "      <td>61.5</td>\n",
       "      <td>57.0</td>\n",
       "      <td>5.35</td>\n",
       "      <td>5.32</td>\n",
       "      <td>3.28</td>\n",
       "    </tr>\n",
       "    <tr>\n",
       "      <th>21073</th>\n",
       "      <td>1.16</td>\n",
       "      <td>61.5</td>\n",
       "      <td>55.0</td>\n",
       "      <td>6.75</td>\n",
       "      <td>6.81</td>\n",
       "      <td>4.17</td>\n",
       "    </tr>\n",
       "    <tr>\n",
       "      <th>42161</th>\n",
       "      <td>0.51</td>\n",
       "      <td>63.2</td>\n",
       "      <td>58.0</td>\n",
       "      <td>5.05</td>\n",
       "      <td>5.08</td>\n",
       "      <td>3.20</td>\n",
       "    </tr>\n",
       "    <tr>\n",
       "      <th>35974</th>\n",
       "      <td>0.42</td>\n",
       "      <td>60.6</td>\n",
       "      <td>56.0</td>\n",
       "      <td>4.83</td>\n",
       "      <td>4.87</td>\n",
       "      <td>2.94</td>\n",
       "    </tr>\n",
       "    <tr>\n",
       "      <th>7641</th>\n",
       "      <td>0.80</td>\n",
       "      <td>62.6</td>\n",
       "      <td>58.0</td>\n",
       "      <td>5.89</td>\n",
       "      <td>5.93</td>\n",
       "      <td>3.70</td>\n",
       "    </tr>\n",
       "  </tbody>\n",
       "</table>\n",
       "</div>"
      ],
      "text/plain": [
       "       carat  depth  table     x     y     z\n",
       "52264   0.57   61.5   57.0  5.35  5.32  3.28\n",
       "21073   1.16   61.5   55.0  6.75  6.81  4.17\n",
       "42161   0.51   63.2   58.0  5.05  5.08  3.20\n",
       "35974   0.42   60.6   56.0  4.83  4.87  2.94\n",
       "7641    0.80   62.6   58.0  5.89  5.93  3.70"
      ]
     },
     "execution_count": 35,
     "metadata": {},
     "output_type": "execute_result"
    }
   ],
   "source": [
    "X_test_num = X_test.select_dtypes(include=['int64', 'float64'])\n",
    "\n",
    "X_test_num.head()"
   ]
  },
  {
   "cell_type": "code",
   "execution_count": 36,
   "id": "e197c01c",
   "metadata": {},
   "outputs": [
    {
     "data": {
      "text/html": [
       "<div>\n",
       "<style scoped>\n",
       "    .dataframe tbody tr th:only-of-type {\n",
       "        vertical-align: middle;\n",
       "    }\n",
       "\n",
       "    .dataframe tbody tr th {\n",
       "        vertical-align: top;\n",
       "    }\n",
       "\n",
       "    .dataframe thead th {\n",
       "        text-align: right;\n",
       "    }\n",
       "</style>\n",
       "<table border=\"1\" class=\"dataframe\">\n",
       "  <thead>\n",
       "    <tr style=\"text-align: right;\">\n",
       "      <th></th>\n",
       "      <th>carat</th>\n",
       "      <th>depth</th>\n",
       "      <th>table</th>\n",
       "      <th>x</th>\n",
       "      <th>y</th>\n",
       "      <th>z</th>\n",
       "    </tr>\n",
       "  </thead>\n",
       "  <tbody>\n",
       "    <tr>\n",
       "      <th>52264</th>\n",
       "      <td>-0.481793</td>\n",
       "      <td>-0.177460</td>\n",
       "      <td>-0.200377</td>\n",
       "      <td>-0.341261</td>\n",
       "      <td>-0.360998</td>\n",
       "      <td>-0.373255</td>\n",
       "    </tr>\n",
       "    <tr>\n",
       "      <th>21073</th>\n",
       "      <td>0.759547</td>\n",
       "      <td>-0.177460</td>\n",
       "      <td>-1.095448</td>\n",
       "      <td>0.905098</td>\n",
       "      <td>0.928292</td>\n",
       "      <td>0.904696</td>\n",
       "    </tr>\n",
       "    <tr>\n",
       "      <th>42161</th>\n",
       "      <td>-0.608031</td>\n",
       "      <td>1.005187</td>\n",
       "      <td>0.247159</td>\n",
       "      <td>-0.608339</td>\n",
       "      <td>-0.568668</td>\n",
       "      <td>-0.488127</td>\n",
       "    </tr>\n",
       "    <tr>\n",
       "      <th>35974</th>\n",
       "      <td>-0.797388</td>\n",
       "      <td>-0.803567</td>\n",
       "      <td>-0.647912</td>\n",
       "      <td>-0.804195</td>\n",
       "      <td>-0.750380</td>\n",
       "      <td>-0.861460</td>\n",
       "    </tr>\n",
       "    <tr>\n",
       "      <th>7641</th>\n",
       "      <td>0.002119</td>\n",
       "      <td>0.587782</td>\n",
       "      <td>0.247159</td>\n",
       "      <td>0.139477</td>\n",
       "      <td>0.166832</td>\n",
       "      <td>0.229823</td>\n",
       "    </tr>\n",
       "  </tbody>\n",
       "</table>\n",
       "</div>"
      ],
      "text/plain": [
       "          carat     depth     table         x         y         z\n",
       "52264 -0.481793 -0.177460 -0.200377 -0.341261 -0.360998 -0.373255\n",
       "21073  0.759547 -0.177460 -1.095448  0.905098  0.928292  0.904696\n",
       "42161 -0.608031  1.005187  0.247159 -0.608339 -0.568668 -0.488127\n",
       "35974 -0.797388 -0.803567 -0.647912 -0.804195 -0.750380 -0.861460\n",
       "7641   0.002119  0.587782  0.247159  0.139477  0.166832  0.229823"
      ]
     },
     "execution_count": 36,
     "metadata": {},
     "output_type": "execute_result"
    }
   ],
   "source": [
    "X_test_num_rescaled = pd.DataFrame(scaler.transform(X_test_num), \n",
    "                                   columns = X_test_num.columns, \n",
    "                                   index = X_test_num.index)\n",
    "\n",
    "X_test_num_rescaled.head()"
   ]
  },
  {
   "cell_type": "code",
   "execution_count": 37,
   "id": "846f0746",
   "metadata": {},
   "outputs": [
    {
     "data": {
      "text/html": [
       "<div>\n",
       "<style scoped>\n",
       "    .dataframe tbody tr th:only-of-type {\n",
       "        vertical-align: middle;\n",
       "    }\n",
       "\n",
       "    .dataframe tbody tr th {\n",
       "        vertical-align: top;\n",
       "    }\n",
       "\n",
       "    .dataframe thead th {\n",
       "        text-align: right;\n",
       "    }\n",
       "</style>\n",
       "<table border=\"1\" class=\"dataframe\">\n",
       "  <thead>\n",
       "    <tr style=\"text-align: right;\">\n",
       "      <th></th>\n",
       "    </tr>\n",
       "  </thead>\n",
       "  <tbody>\n",
       "    <tr>\n",
       "      <th>52264</th>\n",
       "    </tr>\n",
       "    <tr>\n",
       "      <th>21073</th>\n",
       "    </tr>\n",
       "    <tr>\n",
       "      <th>42161</th>\n",
       "    </tr>\n",
       "    <tr>\n",
       "      <th>35974</th>\n",
       "    </tr>\n",
       "    <tr>\n",
       "      <th>7641</th>\n",
       "    </tr>\n",
       "  </tbody>\n",
       "</table>\n",
       "</div>"
      ],
      "text/plain": [
       "Empty DataFrame\n",
       "Columns: []\n",
       "Index: [52264, 21073, 42161, 35974, 7641]"
      ]
     },
     "execution_count": 37,
     "metadata": {},
     "output_type": "execute_result"
    }
   ],
   "source": [
    "X_test_cat_le = pd.DataFrame(index = X_test_cat.index)\n",
    "\n",
    "X_test_cat_le.head()"
   ]
  },
  {
   "cell_type": "code",
   "execution_count": 38,
   "id": "3080892e",
   "metadata": {},
   "outputs": [
    {
     "data": {
      "text/html": [
       "<div>\n",
       "<style scoped>\n",
       "    .dataframe tbody tr th:only-of-type {\n",
       "        vertical-align: middle;\n",
       "    }\n",
       "\n",
       "    .dataframe tbody tr th {\n",
       "        vertical-align: top;\n",
       "    }\n",
       "\n",
       "    .dataframe thead th {\n",
       "        text-align: right;\n",
       "    }\n",
       "</style>\n",
       "<table border=\"1\" class=\"dataframe\">\n",
       "  <thead>\n",
       "    <tr style=\"text-align: right;\">\n",
       "      <th></th>\n",
       "      <th>cut</th>\n",
       "      <th>color</th>\n",
       "      <th>clarity</th>\n",
       "    </tr>\n",
       "  </thead>\n",
       "  <tbody>\n",
       "    <tr>\n",
       "      <th>52264</th>\n",
       "      <td>4</td>\n",
       "      <td>6</td>\n",
       "      <td>4</td>\n",
       "    </tr>\n",
       "    <tr>\n",
       "      <th>21073</th>\n",
       "      <td>4</td>\n",
       "      <td>4</td>\n",
       "      <td>5</td>\n",
       "    </tr>\n",
       "    <tr>\n",
       "      <th>42161</th>\n",
       "      <td>4</td>\n",
       "      <td>4</td>\n",
       "      <td>3</td>\n",
       "    </tr>\n",
       "    <tr>\n",
       "      <th>35974</th>\n",
       "      <td>4</td>\n",
       "      <td>5</td>\n",
       "      <td>5</td>\n",
       "    </tr>\n",
       "    <tr>\n",
       "      <th>7641</th>\n",
       "      <td>5</td>\n",
       "      <td>4</td>\n",
       "      <td>8</td>\n",
       "    </tr>\n",
       "  </tbody>\n",
       "</table>\n",
       "</div>"
      ],
      "text/plain": [
       "       cut  color  clarity\n",
       "52264    4      6        4\n",
       "21073    4      4        5\n",
       "42161    4      4        3\n",
       "35974    4      5        5\n",
       "7641     5      4        8"
      ]
     },
     "execution_count": 38,
     "metadata": {},
     "output_type": "execute_result"
    }
   ],
   "source": [
    "X_test_cat_le['cut'] = X_test_cat['cut'].apply(lambda x : cut_encoder[x])\n",
    "\n",
    "X_test_cat_le['color'] = X_test_cat['color'].apply(lambda x : color_encoder[x])\n",
    "\n",
    "X_test_cat_le['clarity'] = X_test_cat['clarity'].apply(lambda x : clarity_encoder[x])\n",
    "\n",
    "X_test_cat_le.head()"
   ]
  },
  {
   "cell_type": "code",
   "execution_count": 39,
   "id": "cf76faa7",
   "metadata": {},
   "outputs": [
    {
     "data": {
      "text/html": [
       "<div>\n",
       "<style scoped>\n",
       "    .dataframe tbody tr th:only-of-type {\n",
       "        vertical-align: middle;\n",
       "    }\n",
       "\n",
       "    .dataframe tbody tr th {\n",
       "        vertical-align: top;\n",
       "    }\n",
       "\n",
       "    .dataframe thead th {\n",
       "        text-align: right;\n",
       "    }\n",
       "</style>\n",
       "<table border=\"1\" class=\"dataframe\">\n",
       "  <thead>\n",
       "    <tr style=\"text-align: right;\">\n",
       "      <th></th>\n",
       "      <th>carat</th>\n",
       "      <th>depth</th>\n",
       "      <th>table</th>\n",
       "      <th>x</th>\n",
       "      <th>y</th>\n",
       "      <th>z</th>\n",
       "      <th>cut</th>\n",
       "      <th>color</th>\n",
       "      <th>clarity</th>\n",
       "    </tr>\n",
       "  </thead>\n",
       "  <tbody>\n",
       "    <tr>\n",
       "      <th>52264</th>\n",
       "      <td>-0.481793</td>\n",
       "      <td>-0.177460</td>\n",
       "      <td>-0.200377</td>\n",
       "      <td>-0.341261</td>\n",
       "      <td>-0.360998</td>\n",
       "      <td>-0.373255</td>\n",
       "      <td>4</td>\n",
       "      <td>6</td>\n",
       "      <td>4</td>\n",
       "    </tr>\n",
       "    <tr>\n",
       "      <th>21073</th>\n",
       "      <td>0.759547</td>\n",
       "      <td>-0.177460</td>\n",
       "      <td>-1.095448</td>\n",
       "      <td>0.905098</td>\n",
       "      <td>0.928292</td>\n",
       "      <td>0.904696</td>\n",
       "      <td>4</td>\n",
       "      <td>4</td>\n",
       "      <td>5</td>\n",
       "    </tr>\n",
       "    <tr>\n",
       "      <th>42161</th>\n",
       "      <td>-0.608031</td>\n",
       "      <td>1.005187</td>\n",
       "      <td>0.247159</td>\n",
       "      <td>-0.608339</td>\n",
       "      <td>-0.568668</td>\n",
       "      <td>-0.488127</td>\n",
       "      <td>4</td>\n",
       "      <td>4</td>\n",
       "      <td>3</td>\n",
       "    </tr>\n",
       "    <tr>\n",
       "      <th>35974</th>\n",
       "      <td>-0.797388</td>\n",
       "      <td>-0.803567</td>\n",
       "      <td>-0.647912</td>\n",
       "      <td>-0.804195</td>\n",
       "      <td>-0.750380</td>\n",
       "      <td>-0.861460</td>\n",
       "      <td>4</td>\n",
       "      <td>5</td>\n",
       "      <td>5</td>\n",
       "    </tr>\n",
       "    <tr>\n",
       "      <th>7641</th>\n",
       "      <td>0.002119</td>\n",
       "      <td>0.587782</td>\n",
       "      <td>0.247159</td>\n",
       "      <td>0.139477</td>\n",
       "      <td>0.166832</td>\n",
       "      <td>0.229823</td>\n",
       "      <td>5</td>\n",
       "      <td>4</td>\n",
       "      <td>8</td>\n",
       "    </tr>\n",
       "  </tbody>\n",
       "</table>\n",
       "</div>"
      ],
      "text/plain": [
       "          carat     depth     table         x         y         z  cut  color  \\\n",
       "52264 -0.481793 -0.177460 -0.200377 -0.341261 -0.360998 -0.373255    4      6   \n",
       "21073  0.759547 -0.177460 -1.095448  0.905098  0.928292  0.904696    4      4   \n",
       "42161 -0.608031  1.005187  0.247159 -0.608339 -0.568668 -0.488127    4      4   \n",
       "35974 -0.797388 -0.803567 -0.647912 -0.804195 -0.750380 -0.861460    4      5   \n",
       "7641   0.002119  0.587782  0.247159  0.139477  0.166832  0.229823    5      4   \n",
       "\n",
       "       clarity  \n",
       "52264        4  \n",
       "21073        5  \n",
       "42161        3  \n",
       "35974        5  \n",
       "7641         8  "
      ]
     },
     "execution_count": 39,
     "metadata": {},
     "output_type": "execute_result"
    }
   ],
   "source": [
    "X_test_transformed = pd.concat([X_test_num_rescaled, X_test_cat_le], axis=1)\n",
    "\n",
    "X_test_transformed.head()"
   ]
  },
  {
   "cell_type": "markdown",
   "id": "297db3c7",
   "metadata": {},
   "source": [
    "# Linear Regression"
   ]
  },
  {
   "cell_type": "code",
   "execution_count": 57,
   "id": "ab69b44b",
   "metadata": {},
   "outputs": [
    {
     "data": {
      "text/plain": [
       "LinearRegression()"
      ]
     },
     "execution_count": 57,
     "metadata": {},
     "output_type": "execute_result"
    }
   ],
   "source": [
    "from sklearn.linear_model import LinearRegression\n",
    "li_regressor = LinearRegression()\n",
    "li_regressor.fit(X_train_transformed, y_train)"
   ]
  },
  {
   "cell_type": "code",
   "execution_count": 58,
   "id": "336dd8af",
   "metadata": {},
   "outputs": [],
   "source": [
    "y_test_pred = li_regressor.predict(X_test_transformed)"
   ]
  },
  {
   "cell_type": "code",
   "execution_count": 59,
   "id": "e434d4a7",
   "metadata": {},
   "outputs": [
    {
     "data": {
      "text/html": [
       "<div>\n",
       "<style scoped>\n",
       "    .dataframe tbody tr th:only-of-type {\n",
       "        vertical-align: middle;\n",
       "    }\n",
       "\n",
       "    .dataframe tbody tr th {\n",
       "        vertical-align: top;\n",
       "    }\n",
       "\n",
       "    .dataframe thead th {\n",
       "        text-align: right;\n",
       "    }\n",
       "</style>\n",
       "<table border=\"1\" class=\"dataframe\">\n",
       "  <thead>\n",
       "    <tr style=\"text-align: right;\">\n",
       "      <th></th>\n",
       "      <th>Actual</th>\n",
       "      <th>Predicted</th>\n",
       "    </tr>\n",
       "  </thead>\n",
       "  <tbody>\n",
       "    <tr>\n",
       "      <th>52264</th>\n",
       "      <td>2491</td>\n",
       "      <td>2363.834740</td>\n",
       "    </tr>\n",
       "    <tr>\n",
       "      <th>21073</th>\n",
       "      <td>9248</td>\n",
       "      <td>7469.644228</td>\n",
       "    </tr>\n",
       "    <tr>\n",
       "      <th>42161</th>\n",
       "      <td>1284</td>\n",
       "      <td>643.298938</td>\n",
       "    </tr>\n",
       "    <tr>\n",
       "      <th>35974</th>\n",
       "      <td>921</td>\n",
       "      <td>1516.808210</td>\n",
       "    </tr>\n",
       "    <tr>\n",
       "      <th>7641</th>\n",
       "      <td>4268</td>\n",
       "      <td>5721.128606</td>\n",
       "    </tr>\n",
       "  </tbody>\n",
       "</table>\n",
       "</div>"
      ],
      "text/plain": [
       "       Actual    Predicted\n",
       "52264    2491  2363.834740\n",
       "21073    9248  7469.644228\n",
       "42161    1284   643.298938\n",
       "35974     921  1516.808210\n",
       "7641     4268  5721.128606"
      ]
     },
     "execution_count": 59,
     "metadata": {},
     "output_type": "execute_result"
    }
   ],
   "source": [
    "temp_df = pd.DataFrame({'Actual': y_test, 'Predicted': y_test_pred})\n",
    "\n",
    "temp_df.head()"
   ]
  },
  {
   "cell_type": "code",
   "execution_count": 61,
   "id": "1157b1cd",
   "metadata": {},
   "outputs": [
    {
     "name": "stdout",
     "output_type": "stream",
     "text": [
      "Mean Absolute Error:  795.4560135879738\n",
      "Mean Squared Error:  1471939.156075997\n",
      "Root Mean Squared Error:  1213.234996229501\n"
     ]
    }
   ],
   "source": [
    "from sklearn import metrics\n",
    "\n",
    "print('Mean Absolute Error: ', metrics.mean_absolute_error(y_test, y_test_pred))\n",
    "\n",
    "print('Mean Squared Error: ', metrics.mean_squared_error(y_test, y_test_pred))\n",
    "\n",
    "print('Root Mean Squared Error: ', np.sqrt(metrics.mean_squared_error(y_test, y_test_pred)))\n"
   ]
  },
  {
   "cell_type": "code",
   "execution_count": null,
   "id": "c5af5d2c",
   "metadata": {},
   "outputs": [],
   "source": []
  },
  {
   "cell_type": "markdown",
   "id": "d79f90d5",
   "metadata": {},
   "source": [
    "# KNN Regression"
   ]
  },
  {
   "cell_type": "code",
   "execution_count": 63,
   "id": "0c0af9c7",
   "metadata": {},
   "outputs": [
    {
     "data": {
      "text/plain": [
       "KNeighborsRegressor()"
      ]
     },
     "execution_count": 63,
     "metadata": {},
     "output_type": "execute_result"
    }
   ],
   "source": [
    "from sklearn.neighbors import KNeighborsRegressor\n",
    "knn_regressor = KNeighborsRegressor()\n",
    "knn_regressor.fit(X_train_transformed, y_train)"
   ]
  },
  {
   "cell_type": "code",
   "execution_count": 64,
   "id": "c8dc03dd",
   "metadata": {},
   "outputs": [],
   "source": [
    "y_test_pred = knn_regressor.predict(X_test_transformed)"
   ]
  },
  {
   "cell_type": "code",
   "execution_count": 65,
   "id": "579f6c63",
   "metadata": {},
   "outputs": [
    {
     "data": {
      "text/html": [
       "<div>\n",
       "<style scoped>\n",
       "    .dataframe tbody tr th:only-of-type {\n",
       "        vertical-align: middle;\n",
       "    }\n",
       "\n",
       "    .dataframe tbody tr th {\n",
       "        vertical-align: top;\n",
       "    }\n",
       "\n",
       "    .dataframe thead th {\n",
       "        text-align: right;\n",
       "    }\n",
       "</style>\n",
       "<table border=\"1\" class=\"dataframe\">\n",
       "  <thead>\n",
       "    <tr style=\"text-align: right;\">\n",
       "      <th></th>\n",
       "      <th>Actual</th>\n",
       "      <th>Predicted</th>\n",
       "    </tr>\n",
       "  </thead>\n",
       "  <tbody>\n",
       "    <tr>\n",
       "      <th>52264</th>\n",
       "      <td>2491</td>\n",
       "      <td>1779.6</td>\n",
       "    </tr>\n",
       "    <tr>\n",
       "      <th>21073</th>\n",
       "      <td>9248</td>\n",
       "      <td>9000.6</td>\n",
       "    </tr>\n",
       "    <tr>\n",
       "      <th>42161</th>\n",
       "      <td>1284</td>\n",
       "      <td>1136.6</td>\n",
       "    </tr>\n",
       "    <tr>\n",
       "      <th>35974</th>\n",
       "      <td>921</td>\n",
       "      <td>960.4</td>\n",
       "    </tr>\n",
       "    <tr>\n",
       "      <th>7641</th>\n",
       "      <td>4268</td>\n",
       "      <td>5510.6</td>\n",
       "    </tr>\n",
       "  </tbody>\n",
       "</table>\n",
       "</div>"
      ],
      "text/plain": [
       "       Actual  Predicted\n",
       "52264    2491     1779.6\n",
       "21073    9248     9000.6\n",
       "42161    1284     1136.6\n",
       "35974     921      960.4\n",
       "7641     4268     5510.6"
      ]
     },
     "execution_count": 65,
     "metadata": {},
     "output_type": "execute_result"
    }
   ],
   "source": [
    "temp_df = pd.DataFrame({'Actual': y_test, 'Predicted': y_test_pred})\n",
    "\n",
    "temp_df.head()"
   ]
  },
  {
   "cell_type": "code",
   "execution_count": 66,
   "id": "bda845b9",
   "metadata": {},
   "outputs": [
    {
     "name": "stdout",
     "output_type": "stream",
     "text": [
      "Mean Absolute Error:  384.03119515511065\n",
      "Mean Squared Error:  567200.9668570017\n",
      "Root Mean Squared Error:  753.127457245453\n"
     ]
    }
   ],
   "source": [
    "print('Mean Absolute Error: ', metrics.mean_absolute_error(y_test, y_test_pred))\n",
    "\n",
    "print('Mean Squared Error: ', metrics.mean_squared_error(y_test, y_test_pred))\n",
    "\n",
    "print('Root Mean Squared Error: ', np.sqrt(metrics.mean_squared_error(y_test, y_test_pred)))"
   ]
  },
  {
   "cell_type": "markdown",
   "id": "3ba9848b",
   "metadata": {},
   "source": [
    "# Decision Tree Regression"
   ]
  },
  {
   "cell_type": "code",
   "execution_count": 67,
   "id": "7eb38d9b",
   "metadata": {},
   "outputs": [
    {
     "data": {
      "text/plain": [
       "DecisionTreeRegressor()"
      ]
     },
     "execution_count": 67,
     "metadata": {},
     "output_type": "execute_result"
    }
   ],
   "source": [
    "from sklearn.tree import DecisionTreeRegressor\n",
    "dt_regressor = DecisionTreeRegressor()\n",
    "dt_regressor.fit(X_train_transformed, y_train)"
   ]
  },
  {
   "cell_type": "code",
   "execution_count": 68,
   "id": "8dca66a4",
   "metadata": {},
   "outputs": [],
   "source": [
    "y_test_pred = dt_regressor.predict(X_test_transformed)"
   ]
  },
  {
   "cell_type": "code",
   "execution_count": 69,
   "id": "a411bf6f",
   "metadata": {},
   "outputs": [
    {
     "data": {
      "text/html": [
       "<div>\n",
       "<style scoped>\n",
       "    .dataframe tbody tr th:only-of-type {\n",
       "        vertical-align: middle;\n",
       "    }\n",
       "\n",
       "    .dataframe tbody tr th {\n",
       "        vertical-align: top;\n",
       "    }\n",
       "\n",
       "    .dataframe thead th {\n",
       "        text-align: right;\n",
       "    }\n",
       "</style>\n",
       "<table border=\"1\" class=\"dataframe\">\n",
       "  <thead>\n",
       "    <tr style=\"text-align: right;\">\n",
       "      <th></th>\n",
       "      <th>Actual</th>\n",
       "      <th>Predicted</th>\n",
       "    </tr>\n",
       "  </thead>\n",
       "  <tbody>\n",
       "    <tr>\n",
       "      <th>52264</th>\n",
       "      <td>2491</td>\n",
       "      <td>1625.0</td>\n",
       "    </tr>\n",
       "    <tr>\n",
       "      <th>21073</th>\n",
       "      <td>9248</td>\n",
       "      <td>8020.0</td>\n",
       "    </tr>\n",
       "    <tr>\n",
       "      <th>42161</th>\n",
       "      <td>1284</td>\n",
       "      <td>1237.0</td>\n",
       "    </tr>\n",
       "    <tr>\n",
       "      <th>35974</th>\n",
       "      <td>921</td>\n",
       "      <td>1031.0</td>\n",
       "    </tr>\n",
       "    <tr>\n",
       "      <th>7641</th>\n",
       "      <td>4268</td>\n",
       "      <td>6338.0</td>\n",
       "    </tr>\n",
       "  </tbody>\n",
       "</table>\n",
       "</div>"
      ],
      "text/plain": [
       "       Actual  Predicted\n",
       "52264    2491     1625.0\n",
       "21073    9248     8020.0\n",
       "42161    1284     1237.0\n",
       "35974     921     1031.0\n",
       "7641     4268     6338.0"
      ]
     },
     "execution_count": 69,
     "metadata": {},
     "output_type": "execute_result"
    }
   ],
   "source": [
    "temp_df = pd.DataFrame({'Actual': y_test, 'Predicted': y_test_pred})\n",
    "\n",
    "temp_df.head()"
   ]
  },
  {
   "cell_type": "code",
   "execution_count": 49,
   "id": "a863827d",
   "metadata": {},
   "outputs": [
    {
     "name": "stdout",
     "output_type": "stream",
     "text": [
      "Mean Absolute Error:  362.52329749103944\n",
      "Mean Squared Error:  540337.8444568039\n",
      "Root Mean Squared Error:  735.0767609282747\n"
     ]
    }
   ],
   "source": [
    "print('Mean Absolute Error: ', metrics.mean_absolute_error(y_test, y_test_pred))\n",
    "\n",
    "print('Mean Squared Error: ', metrics.mean_squared_error(y_test, y_test_pred))\n",
    "\n",
    "print('Root Mean Squared Error: ', np.sqrt(metrics.mean_squared_error(y_test, y_test_pred)))"
   ]
  },
  {
   "cell_type": "markdown",
   "id": "9ed17318",
   "metadata": {},
   "source": [
    "# Random Forest Regression"
   ]
  },
  {
   "cell_type": "code",
   "execution_count": 70,
   "id": "0a722e97",
   "metadata": {},
   "outputs": [
    {
     "data": {
      "text/plain": [
       "RandomForestRegressor()"
      ]
     },
     "execution_count": 70,
     "metadata": {},
     "output_type": "execute_result"
    }
   ],
   "source": [
    "from sklearn.ensemble import RandomForestRegressor\n",
    "rf_regressor = RandomForestRegressor()\n",
    "rf_regressor.fit(X_train_transformed, y_train)"
   ]
  },
  {
   "cell_type": "code",
   "execution_count": 71,
   "id": "a6054f28",
   "metadata": {},
   "outputs": [],
   "source": [
    "y_test_pred = rf_regressor.predict(X_test_transformed)"
   ]
  },
  {
   "cell_type": "code",
   "execution_count": 72,
   "id": "216df7c9",
   "metadata": {},
   "outputs": [
    {
     "data": {
      "text/html": [
       "<div>\n",
       "<style scoped>\n",
       "    .dataframe tbody tr th:only-of-type {\n",
       "        vertical-align: middle;\n",
       "    }\n",
       "\n",
       "    .dataframe tbody tr th {\n",
       "        vertical-align: top;\n",
       "    }\n",
       "\n",
       "    .dataframe thead th {\n",
       "        text-align: right;\n",
       "    }\n",
       "</style>\n",
       "<table border=\"1\" class=\"dataframe\">\n",
       "  <thead>\n",
       "    <tr style=\"text-align: right;\">\n",
       "      <th></th>\n",
       "      <th>Actual</th>\n",
       "      <th>Predicted</th>\n",
       "    </tr>\n",
       "  </thead>\n",
       "  <tbody>\n",
       "    <tr>\n",
       "      <th>52264</th>\n",
       "      <td>2491</td>\n",
       "      <td>1840.31</td>\n",
       "    </tr>\n",
       "    <tr>\n",
       "      <th>21073</th>\n",
       "      <td>9248</td>\n",
       "      <td>8651.18</td>\n",
       "    </tr>\n",
       "    <tr>\n",
       "      <th>42161</th>\n",
       "      <td>1284</td>\n",
       "      <td>1246.76</td>\n",
       "    </tr>\n",
       "    <tr>\n",
       "      <th>35974</th>\n",
       "      <td>921</td>\n",
       "      <td>1036.15</td>\n",
       "    </tr>\n",
       "    <tr>\n",
       "      <th>7641</th>\n",
       "      <td>4268</td>\n",
       "      <td>4338.75</td>\n",
       "    </tr>\n",
       "  </tbody>\n",
       "</table>\n",
       "</div>"
      ],
      "text/plain": [
       "       Actual  Predicted\n",
       "52264    2491    1840.31\n",
       "21073    9248    8651.18\n",
       "42161    1284    1246.76\n",
       "35974     921    1036.15\n",
       "7641     4268    4338.75"
      ]
     },
     "execution_count": 72,
     "metadata": {},
     "output_type": "execute_result"
    }
   ],
   "source": [
    "temp_df = pd.DataFrame({'Actual': y_test, 'Predicted': y_test_pred})\n",
    "\n",
    "temp_df.head()"
   ]
  },
  {
   "cell_type": "code",
   "execution_count": 52,
   "id": "c70eeb28",
   "metadata": {},
   "outputs": [
    {
     "name": "stdout",
     "output_type": "stream",
     "text": [
      "Mean Absolute Error:  269.02242130291745\n",
      "Mean Squared Error:  288559.0015114242\n",
      "Root Mean Squared Error:  537.1768810284227\n"
     ]
    }
   ],
   "source": [
    "print('Mean Absolute Error: ', metrics.mean_absolute_error(y_test, y_test_pred))\n",
    "\n",
    "print('Mean Squared Error: ', metrics.mean_squared_error(y_test, y_test_pred))\n",
    "\n",
    "print('Root Mean Squared Error: ', np.sqrt(metrics.mean_squared_error(y_test, y_test_pred)))"
   ]
  },
  {
   "cell_type": "markdown",
   "id": "9334fc8b",
   "metadata": {},
   "source": [
    "# Saving the model(Serialization)"
   ]
  },
  {
   "cell_type": "code",
   "execution_count": 74,
   "id": "a65faa9f",
   "metadata": {},
   "outputs": [],
   "source": [
    "from pickle import dump\n",
    "\n",
    "dump(scaler, open(r'C:\\Users\\Sharanya\\OneDrive\\Desktop\\diamond_price_prediction\\models\\standard_scaler.pkl', 'wb'))\n",
    "dump(li_regressor, open(r'C:\\Users\\Sharanya\\OneDrive\\Desktop\\diamond_price_prediction\\models\\linearregression.pkl', 'wb'))\n",
    "dump(knn_regressor, open(r'C:\\Users\\Sharanya\\OneDrive\\Desktop\\diamond_price_prediction\\models\\knnregression.pkl', 'wb'))\n",
    "dump(dt_regressor, open(r'C:\\Users\\Sharanya\\OneDrive\\Desktop\\diamond_price_prediction\\models\\decisiontreeregression.pkl', 'wb'))\n",
    "dump(rf_regressor, open(r'C:\\Users\\Sharanya\\OneDrive\\Desktop\\diamond_price_prediction\\models\\randomforestregression.pkl', 'wb'))"
   ]
  },
  {
   "cell_type": "markdown",
   "id": "af06f11d",
   "metadata": {},
   "source": [
    "# Deserialization"
   ]
  },
  {
   "cell_type": "code",
   "execution_count": 75,
   "id": "08648bb3",
   "metadata": {},
   "outputs": [],
   "source": [
    "from pickle import load"
   ]
  },
  {
   "cell_type": "code",
   "execution_count": 77,
   "id": "7aa736ce",
   "metadata": {},
   "outputs": [],
   "source": [
    "rf_regressor = load(open(r'C:\\Users\\Sharanya\\OneDrive\\Desktop\\diamond_price_prediction\\models\\randomforestregression.pkl', 'rb'))\n",
    "scaler = load(open(r'C:\\Users\\Sharanya\\OneDrive\\Desktop\\diamond_price_prediction\\models\\standard_scaler.pkl', 'rb'))"
   ]
  },
  {
   "cell_type": "code",
   "execution_count": 78,
   "id": "0b259880",
   "metadata": {},
   "outputs": [],
   "source": [
    "clarity_encoder = {'I1':1, 'SI2':2, 'SI1':3, 'VS2':4, 'VS1':5, 'VVS2':6, 'VVS1':7, 'IF':8}\n",
    "color_encoder = {'J':1, 'I':2, 'H':3, 'G':4, 'F':5, 'E':6, 'D':7}\n",
    "cut_encoder = {'Fair' : 1, 'Good' : 2, 'Very Good' : 3, 'Ideal' : 4, 'Premium' : 5}"
   ]
  },
  {
   "cell_type": "code",
   "execution_count": 79,
   "id": "d5a04fe6",
   "metadata": {},
   "outputs": [
    {
     "data": {
      "text/plain": [
       "dict_keys(['I1', 'SI2', 'SI1', 'VS2', 'VS1', 'VVS2', 'VVS1', 'IF'])"
      ]
     },
     "execution_count": 79,
     "metadata": {},
     "output_type": "execute_result"
    }
   ],
   "source": [
    "clarity_encoder.keys()"
   ]
  },
  {
   "cell_type": "code",
   "execution_count": 80,
   "id": "320d9120",
   "metadata": {},
   "outputs": [
    {
     "name": "stderr",
     "output_type": "stream",
     "text": [
      "C:\\Users\\Sharanya\\anaconda3\\lib\\site-packages\\sklearn\\base.py:450: UserWarning: X does not have valid feature names, but StandardScaler was fitted with feature names\n",
      "  warnings.warn(\n"
     ]
    },
    {
     "data": {
      "text/plain": [
       "array([ 0.7595468 , -0.1774599 , -1.09544817,  0.90509846,  0.92829164,\n",
       "        0.90469557])"
      ]
     },
     "execution_count": 80,
     "metadata": {},
     "output_type": "execute_result"
    }
   ],
   "source": [
    "num_scal=scaler.transform([[1.16 ,61.5 ,55.0 ,6.75 ,6.81 ,4.17]])\n",
    "num_scal.flatten()"
   ]
  },
  {
   "cell_type": "code",
   "execution_count": 81,
   "id": "83cab32b",
   "metadata": {},
   "outputs": [
    {
     "data": {
      "text/plain": [
       "array([1, 1, 2])"
      ]
     },
     "execution_count": 81,
     "metadata": {},
     "output_type": "execute_result"
    }
   ],
   "source": [
    "cat_encod=np.array([clarity_encoder[\"I1\"],color_encoder[\"J\"],cut_encoder[\"Good\"]])\n",
    "cat_encod"
   ]
  },
  {
   "cell_type": "code",
   "execution_count": 82,
   "id": "d572d49e",
   "metadata": {},
   "outputs": [
    {
     "data": {
      "text/plain": [
       "array([[ 1.        ,  1.        ,  2.        ,  0.7595468 , -0.1774599 ,\n",
       "        -1.09544817,  0.90509846,  0.92829164,  0.90469557]])"
      ]
     },
     "execution_count": 82,
     "metadata": {},
     "output_type": "execute_result"
    }
   ],
   "source": [
    "np.concatenate((cat_encod, num_scal.flatten()), axis=None).reshape(1,-1)"
   ]
  },
  {
   "cell_type": "code",
   "execution_count": 83,
   "id": "ef8a6f35",
   "metadata": {},
   "outputs": [
    {
     "name": "stderr",
     "output_type": "stream",
     "text": [
      "C:\\Users\\Sharanya\\anaconda3\\lib\\site-packages\\sklearn\\base.py:450: UserWarning: X does not have valid feature names, but RandomForestRegressor was fitted with feature names\n",
      "  warnings.warn(\n"
     ]
    },
    {
     "data": {
      "text/plain": [
       "2569.02"
      ]
     },
     "execution_count": 83,
     "metadata": {},
     "output_type": "execute_result"
    }
   ],
   "source": [
    "rf_regressor.predict(np.concatenate((cat_encod, num_scal.flatten()), axis=None).reshape(1,-1)).item()"
   ]
  },
  {
   "cell_type": "code",
   "execution_count": null,
   "id": "0e5315f6",
   "metadata": {},
   "outputs": [],
   "source": []
  }
 ],
 "metadata": {
  "kernelspec": {
   "display_name": "Python 3 (ipykernel)",
   "language": "python",
   "name": "python3"
  },
  "language_info": {
   "codemirror_mode": {
    "name": "ipython",
    "version": 3
   },
   "file_extension": ".py",
   "mimetype": "text/x-python",
   "name": "python",
   "nbconvert_exporter": "python",
   "pygments_lexer": "ipython3",
   "version": "3.9.12"
  }
 },
 "nbformat": 4,
 "nbformat_minor": 5
}
