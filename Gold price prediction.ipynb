{
 "cells": [
  {
   "cell_type": "code",
   "execution_count": 7,
   "id": "8964ce58",
   "metadata": {},
   "outputs": [],
   "source": [
    "import numpy as np\n",
    "import pandas as pd\n",
    "import matplotlib.pyplot as plt\n",
    "import seaborn as sns\n",
    "from sklearn.model_selection import train_test_split\n",
    "from sklearn.ensemble import RandomForestRegressor\n",
    "from sklearn import metrics"
   ]
  },
  {
   "cell_type": "code",
   "execution_count": 2,
   "id": "6af48bc4",
   "metadata": {},
   "outputs": [
    {
     "name": "stdout",
     "output_type": "stream",
     "text": [
      "Note: you may need to restart the kernel to use updated packages.Collecting kagglehub\n"
     ]
    },
    {
     "name": "stderr",
     "output_type": "stream",
     "text": [
      "WARNING: Ignoring invalid distribution -aiss-cpu (c:\\users\\admin\\anaconda3\\lib\\site-packages)\n",
      "WARNING: Ignoring invalid distribution -rotobuf (c:\\users\\admin\\anaconda3\\lib\\site-packages)\n",
      "WARNING: Ignoring invalid distribution -aiss-cpu (c:\\users\\admin\\anaconda3\\lib\\site-packages)\n",
      "WARNING: Ignoring invalid distribution -rotobuf (c:\\users\\admin\\anaconda3\\lib\\site-packages)\n",
      "\n",
      "[notice] A new release of pip is available: 23.2.1 -> 25.3\n",
      "[notice] To update, run: python.exe -m pip install --upgrade pip\n"
     ]
    },
    {
     "name": "stdout",
     "output_type": "stream",
     "text": [
      "\n",
      "  Obtaining dependency information for kagglehub from https://files.pythonhosted.org/packages/a4/8e/4077b08b95a1f8302c694a8b399bd413815fbe89045c41e6e08cd7d9439a/kagglehub-0.3.13-py3-none-any.whl.metadata\n",
      "  Downloading kagglehub-0.3.13-py3-none-any.whl.metadata (38 kB)\n",
      "Requirement already satisfied: packaging in c:\\users\\admin\\anaconda3\\lib\\site-packages (from kagglehub) (23.2)\n",
      "Requirement already satisfied: pyyaml in c:\\users\\admin\\anaconda3\\lib\\site-packages (from kagglehub) (6.0)\n",
      "Requirement already satisfied: requests in c:\\users\\admin\\anaconda3\\lib\\site-packages (from kagglehub) (2.31.0)\n",
      "Requirement already satisfied: tqdm in c:\\users\\admin\\anaconda3\\lib\\site-packages (from kagglehub) (4.66.1)\n",
      "Requirement already satisfied: charset-normalizer<4,>=2 in c:\\users\\admin\\anaconda3\\lib\\site-packages (from requests->kagglehub) (2.0.4)\n",
      "Requirement already satisfied: idna<4,>=2.5 in c:\\users\\admin\\anaconda3\\lib\\site-packages (from requests->kagglehub) (3.3)\n",
      "Requirement already satisfied: urllib3<3,>=1.21.1 in c:\\users\\admin\\anaconda3\\lib\\site-packages (from requests->kagglehub) (1.26.18)\n",
      "Requirement already satisfied: certifi>=2017.4.17 in c:\\users\\admin\\anaconda3\\lib\\site-packages (from requests->kagglehub) (2021.10.8)\n",
      "Requirement already satisfied: colorama in c:\\users\\admin\\anaconda3\\lib\\site-packages (from tqdm->kagglehub) (0.4.6)\n",
      "Downloading kagglehub-0.3.13-py3-none-any.whl (68 kB)\n",
      "   ---------------------------------------- 68.3/68.3 kB 743.8 kB/s eta 0:00:00\n",
      "Installing collected packages: kagglehub\n",
      "Successfully installed kagglehub-0.3.13\n"
     ]
    }
   ],
   "source": [
    "pip install kagglehub"
   ]
  },
  {
   "cell_type": "code",
   "execution_count": null,
   "id": "ea8d7084",
   "metadata": {},
   "outputs": [],
   "source": [
    "#  https://www.kaggle.com/datasets/altruistdelhite04/gold-price-data?resource=download"
   ]
  },
  {
   "cell_type": "code",
   "execution_count": 3,
   "id": "3be1e4ef",
   "metadata": {},
   "outputs": [
    {
     "name": "stdout",
     "output_type": "stream",
     "text": [
      "Downloading from https://www.kaggle.com/api/v1/datasets/download/altruistdelhite04/gold-price-data?dataset_version_number=1...\n"
     ]
    },
    {
     "name": "stderr",
     "output_type": "stream",
     "text": [
      "100%|██████████████████████████████████████████████████████████████████████████████| 41.9k/41.9k [00:00<00:00, 178kB/s]"
     ]
    },
    {
     "name": "stdout",
     "output_type": "stream",
     "text": [
      "Extracting files...\n",
      "Path to dataset files: C:\\Users\\Admin\\.cache\\kagglehub\\datasets\\altruistdelhite04\\gold-price-data\\versions\\1\n"
     ]
    },
    {
     "name": "stderr",
     "output_type": "stream",
     "text": [
      "\n"
     ]
    }
   ],
   "source": [
    "import kagglehub\n",
    "\n",
    "# Download latest version\n",
    "path = kagglehub.dataset_download(\"altruistdelhite04/gold-price-data\")\n",
    "\n",
    "print(\"Path to dataset files:\", path)"
   ]
  },
  {
   "cell_type": "code",
   "execution_count": 6,
   "id": "d53dd62e",
   "metadata": {},
   "outputs": [
    {
     "data": {
      "text/html": [
       "<div>\n",
       "<style scoped>\n",
       "    .dataframe tbody tr th:only-of-type {\n",
       "        vertical-align: middle;\n",
       "    }\n",
       "\n",
       "    .dataframe tbody tr th {\n",
       "        vertical-align: top;\n",
       "    }\n",
       "\n",
       "    .dataframe thead th {\n",
       "        text-align: right;\n",
       "    }\n",
       "</style>\n",
       "<table border=\"1\" class=\"dataframe\">\n",
       "  <thead>\n",
       "    <tr style=\"text-align: right;\">\n",
       "      <th></th>\n",
       "      <th>Date</th>\n",
       "      <th>SPX</th>\n",
       "      <th>GLD</th>\n",
       "      <th>USO</th>\n",
       "      <th>SLV</th>\n",
       "      <th>EUR/USD</th>\n",
       "    </tr>\n",
       "  </thead>\n",
       "  <tbody>\n",
       "    <tr>\n",
       "      <th>0</th>\n",
       "      <td>1/2/2008</td>\n",
       "      <td>1447.160034</td>\n",
       "      <td>84.860001</td>\n",
       "      <td>78.470001</td>\n",
       "      <td>15.180</td>\n",
       "      <td>1.471692</td>\n",
       "    </tr>\n",
       "    <tr>\n",
       "      <th>1</th>\n",
       "      <td>1/3/2008</td>\n",
       "      <td>1447.160034</td>\n",
       "      <td>85.570000</td>\n",
       "      <td>78.370003</td>\n",
       "      <td>15.285</td>\n",
       "      <td>1.474491</td>\n",
       "    </tr>\n",
       "    <tr>\n",
       "      <th>2</th>\n",
       "      <td>1/4/2008</td>\n",
       "      <td>1411.630005</td>\n",
       "      <td>85.129997</td>\n",
       "      <td>77.309998</td>\n",
       "      <td>15.167</td>\n",
       "      <td>1.475492</td>\n",
       "    </tr>\n",
       "    <tr>\n",
       "      <th>3</th>\n",
       "      <td>1/7/2008</td>\n",
       "      <td>1416.180054</td>\n",
       "      <td>84.769997</td>\n",
       "      <td>75.500000</td>\n",
       "      <td>15.053</td>\n",
       "      <td>1.468299</td>\n",
       "    </tr>\n",
       "    <tr>\n",
       "      <th>4</th>\n",
       "      <td>1/8/2008</td>\n",
       "      <td>1390.189941</td>\n",
       "      <td>86.779999</td>\n",
       "      <td>76.059998</td>\n",
       "      <td>15.590</td>\n",
       "      <td>1.557099</td>\n",
       "    </tr>\n",
       "  </tbody>\n",
       "</table>\n",
       "</div>"
      ],
      "text/plain": [
       "       Date          SPX        GLD        USO     SLV   EUR/USD\n",
       "0  1/2/2008  1447.160034  84.860001  78.470001  15.180  1.471692\n",
       "1  1/3/2008  1447.160034  85.570000  78.370003  15.285  1.474491\n",
       "2  1/4/2008  1411.630005  85.129997  77.309998  15.167  1.475492\n",
       "3  1/7/2008  1416.180054  84.769997  75.500000  15.053  1.468299\n",
       "4  1/8/2008  1390.189941  86.779999  76.059998  15.590  1.557099"
      ]
     },
     "execution_count": 6,
     "metadata": {},
     "output_type": "execute_result"
    }
   ],
   "source": [
    "df=pd.read_csv(r\"gld_price_data.csv\")\n",
    "df.head()"
   ]
  },
  {
   "cell_type": "code",
   "execution_count": null,
   "id": "97d848eb",
   "metadata": {},
   "outputs": [],
   "source": [
    "#Analysis"
   ]
  },
  {
   "cell_type": "code",
   "execution_count": 9,
   "id": "edb60c80",
   "metadata": {},
   "outputs": [
    {
     "name": "stdout",
     "output_type": "stream",
     "text": [
      "<class 'pandas.core.frame.DataFrame'>\n",
      "RangeIndex: 2290 entries, 0 to 2289\n",
      "Data columns (total 6 columns):\n",
      " #   Column   Non-Null Count  Dtype  \n",
      "---  ------   --------------  -----  \n",
      " 0   Date     2290 non-null   object \n",
      " 1   SPX      2290 non-null   float64\n",
      " 2   GLD      2290 non-null   float64\n",
      " 3   USO      2290 non-null   float64\n",
      " 4   SLV      2290 non-null   float64\n",
      " 5   EUR/USD  2290 non-null   float64\n",
      "dtypes: float64(5), object(1)\n",
      "memory usage: 107.5+ KB\n"
     ]
    }
   ],
   "source": [
    "# getting some basic informations about the data\n",
    "df.info()"
   ]
  },
  {
   "cell_type": "code",
   "execution_count": 11,
   "id": "90257620",
   "metadata": {},
   "outputs": [
    {
     "data": {
      "text/plain": [
       "Date       0\n",
       "SPX        0\n",
       "GLD        0\n",
       "USO        0\n",
       "SLV        0\n",
       "EUR/USD    0\n",
       "dtype: int64"
      ]
     },
     "execution_count": 11,
     "metadata": {},
     "output_type": "execute_result"
    }
   ],
   "source": [
    "# checking the number of missing values\n",
    "df.isnull().sum()"
   ]
  },
  {
   "cell_type": "code",
   "execution_count": 13,
   "id": "582576f2",
   "metadata": {},
   "outputs": [
    {
     "data": {
      "text/html": [
       "<div>\n",
       "<style scoped>\n",
       "    .dataframe tbody tr th:only-of-type {\n",
       "        vertical-align: middle;\n",
       "    }\n",
       "\n",
       "    .dataframe tbody tr th {\n",
       "        vertical-align: top;\n",
       "    }\n",
       "\n",
       "    .dataframe thead th {\n",
       "        text-align: right;\n",
       "    }\n",
       "</style>\n",
       "<table border=\"1\" class=\"dataframe\">\n",
       "  <thead>\n",
       "    <tr style=\"text-align: right;\">\n",
       "      <th></th>\n",
       "      <th>SPX</th>\n",
       "      <th>GLD</th>\n",
       "      <th>USO</th>\n",
       "      <th>SLV</th>\n",
       "      <th>EUR/USD</th>\n",
       "    </tr>\n",
       "  </thead>\n",
       "  <tbody>\n",
       "    <tr>\n",
       "      <th>count</th>\n",
       "      <td>2290.000000</td>\n",
       "      <td>2290.000000</td>\n",
       "      <td>2290.000000</td>\n",
       "      <td>2290.000000</td>\n",
       "      <td>2290.000000</td>\n",
       "    </tr>\n",
       "    <tr>\n",
       "      <th>mean</th>\n",
       "      <td>1654.315776</td>\n",
       "      <td>122.732875</td>\n",
       "      <td>31.842221</td>\n",
       "      <td>20.084997</td>\n",
       "      <td>1.283653</td>\n",
       "    </tr>\n",
       "    <tr>\n",
       "      <th>std</th>\n",
       "      <td>519.111540</td>\n",
       "      <td>23.283346</td>\n",
       "      <td>19.523517</td>\n",
       "      <td>7.092566</td>\n",
       "      <td>0.131547</td>\n",
       "    </tr>\n",
       "    <tr>\n",
       "      <th>min</th>\n",
       "      <td>676.530029</td>\n",
       "      <td>70.000000</td>\n",
       "      <td>7.960000</td>\n",
       "      <td>8.850000</td>\n",
       "      <td>1.039047</td>\n",
       "    </tr>\n",
       "    <tr>\n",
       "      <th>25%</th>\n",
       "      <td>1239.874969</td>\n",
       "      <td>109.725000</td>\n",
       "      <td>14.380000</td>\n",
       "      <td>15.570000</td>\n",
       "      <td>1.171313</td>\n",
       "    </tr>\n",
       "    <tr>\n",
       "      <th>50%</th>\n",
       "      <td>1551.434998</td>\n",
       "      <td>120.580002</td>\n",
       "      <td>33.869999</td>\n",
       "      <td>17.268500</td>\n",
       "      <td>1.303297</td>\n",
       "    </tr>\n",
       "    <tr>\n",
       "      <th>75%</th>\n",
       "      <td>2073.010070</td>\n",
       "      <td>132.840004</td>\n",
       "      <td>37.827501</td>\n",
       "      <td>22.882500</td>\n",
       "      <td>1.369971</td>\n",
       "    </tr>\n",
       "    <tr>\n",
       "      <th>max</th>\n",
       "      <td>2872.870117</td>\n",
       "      <td>184.589996</td>\n",
       "      <td>117.480003</td>\n",
       "      <td>47.259998</td>\n",
       "      <td>1.598798</td>\n",
       "    </tr>\n",
       "  </tbody>\n",
       "</table>\n",
       "</div>"
      ],
      "text/plain": [
       "               SPX          GLD          USO          SLV      EUR/USD\n",
       "count  2290.000000  2290.000000  2290.000000  2290.000000  2290.000000\n",
       "mean   1654.315776   122.732875    31.842221    20.084997     1.283653\n",
       "std     519.111540    23.283346    19.523517     7.092566     0.131547\n",
       "min     676.530029    70.000000     7.960000     8.850000     1.039047\n",
       "25%    1239.874969   109.725000    14.380000    15.570000     1.171313\n",
       "50%    1551.434998   120.580002    33.869999    17.268500     1.303297\n",
       "75%    2073.010070   132.840004    37.827501    22.882500     1.369971\n",
       "max    2872.870117   184.589996   117.480003    47.259998     1.598798"
      ]
     },
     "execution_count": 13,
     "metadata": {},
     "output_type": "execute_result"
    }
   ],
   "source": [
    "# getting the statistical measures of the data\n",
    "df.describe()"
   ]
  },
  {
   "cell_type": "code",
   "execution_count": 15,
   "id": "4a40a05b",
   "metadata": {},
   "outputs": [],
   "source": [
    "correlation = df.corr()"
   ]
  },
  {
   "cell_type": "code",
   "execution_count": 16,
   "id": "7c8c1298",
   "metadata": {},
   "outputs": [
    {
     "data": {
      "text/plain": [
       "<AxesSubplot:>"
      ]
     },
     "execution_count": 16,
     "metadata": {},
     "output_type": "execute_result"
    },
    {
     "data": {
      "image/png": "[encoded data removed]",
      "text/plain": [
       "<Figure size 576x576 with 2 Axes>"
      ]
     },
     "metadata": {
      "needs_background": "light"
     },
     "output_type": "display_data"
    }
   ],
   "source": [
    "# constructing a heatmap to understand the correlatiom\n",
    "plt.figure(figsize = (8,8))\n",
    "sns.heatmap(correlation, cbar=True, square=True, fmt='.1f',annot=True, annot_kws={'size':8}, cmap='Blues')"
   ]
  },
  {
   "cell_type": "code",
   "execution_count": 17,
   "id": "0aa7e792",
   "metadata": {},
   "outputs": [
    {
     "name": "stdout",
     "output_type": "stream",
     "text": [
      "SPX        0.049345\n",
      "GLD        1.000000\n",
      "USO       -0.186360\n",
      "SLV        0.866632\n",
      "EUR/USD   -0.024375\n",
      "Name: GLD, dtype: float64\n"
     ]
    }
   ],
   "source": [
    "# correlation values of GLD\n",
    "print(correlation['GLD'])"
   ]
  },
  {
   "cell_type": "code",
   "execution_count": 19,
   "id": "4f7fd2d3",
   "metadata": {},
   "outputs": [
    {
     "name": "stderr",
     "output_type": "stream",
     "text": [
      "C:\\Users\\Admin\\anaconda3\\lib\\site-packages\\seaborn\\distributions.py:2619: FutureWarning: `distplot` is a deprecated function and will be removed in a future version. Please adapt your code to use either `displot` (a figure-level function with similar flexibility) or `histplot` (an axes-level function for histograms).\n",
      "  warnings.warn(msg, FutureWarning)\n"
     ]
    },
    {
     "data": {
      "text/plain": [
       "<AxesSubplot:xlabel='GLD', ylabel='Density'>"
      ]
     },
     "execution_count": 19,
     "metadata": {},
     "output_type": "execute_result"
    },
    {
     "data": {
      "image/png": "[encoded data removed]",
      "text/plain": [
       "<Figure size 432x288 with 1 Axes>"
      ]
     },
     "metadata": {
      "needs_background": "light"
     },
     "output_type": "display_data"
    }
   ],
   "source": [
    "# checking the distribution of the GLD Price\n",
    "sns.distplot(df['GLD'],color='green')"
   ]
  },
  {
   "cell_type": "code",
   "execution_count": 21,
   "id": "c415b3ed",
   "metadata": {},
   "outputs": [],
   "source": [
    "#Splitting the feature and target\n",
    "X = df.drop(['Date','GLD'],axis=1)\n",
    "Y = df['GLD']"
   ]
  },
  {
   "cell_type": "code",
   "execution_count": 22,
   "id": "9900d087",
   "metadata": {},
   "outputs": [],
   "source": [
    "#Splitting the training and testing data\n",
    "X_train, X_test, Y_train, Y_test = train_test_split(X, Y, test_size = 0.2, random_state=2)"
   ]
  },
  {
   "cell_type": "code",
   "execution_count": 23,
   "id": "43dadfe1",
   "metadata": {},
   "outputs": [],
   "source": [
    "#Random forest regressor\n",
    "regressor = RandomForestRegressor(n_estimators=100)"
   ]
  },
  {
   "cell_type": "code",
   "execution_count": 24,
   "id": "4bd04254",
   "metadata": {},
   "outputs": [
    {
     "data": {
      "text/plain": [
       "RandomForestRegressor()"
      ]
     },
     "execution_count": 24,
     "metadata": {},
     "output_type": "execute_result"
    }
   ],
   "source": [
    "# training the model\n",
    "regressor.fit(X_train,Y_train)"
   ]
  },
  {
   "cell_type": "code",
   "execution_count": 25,
   "id": "744e6d24",
   "metadata": {},
   "outputs": [],
   "source": [
    "# prediction on Test Data\n",
    "test_data_prediction = regressor.predict(X_test)"
   ]
  },
  {
   "cell_type": "code",
   "execution_count": 26,
   "id": "2cb1540b",
   "metadata": {},
   "outputs": [
    {
     "name": "stdout",
     "output_type": "stream",
     "text": [
      "[168.58069978  81.98549975 115.91209997 127.61120053 120.67210133\n",
      " 154.77099804 150.01809799 126.09010046 117.50829877 125.93430064\n",
      " 116.65800118 171.8091009  141.32059941 167.36709851 115.30540048\n",
      " 117.51770043 137.32120284 169.96570073 159.09950308 161.01480015\n",
      " 155.11500037 125.35340022 175.69409922 157.75480363 125.18740034\n",
      "  93.83269982  77.82049973 120.68420006 119.12099944 167.46940031\n",
      "  88.14560081 125.30829997  91.2420006  117.5760005  121.14039885\n",
      " 135.90670064 115.53690144 115.08610065 148.66949968 107.33810122\n",
      " 104.21080234  87.15239798 126.45260009 117.87239966 151.87909912\n",
      " 119.88149993 108.31360022 108.09439839  92.94130007 127.10009818\n",
      "  75.14340009 113.64949934 121.29150021 111.17909919 118.96809882\n",
      " 120.84129968 159.75660043 167.98810044 146.97229687  85.71099816\n",
      "  94.26720045  86.78869917  90.53950037 119.11170079 126.30700052\n",
      " 127.31769987 169.56980035 122.31479937 117.30939862  98.60590041\n",
      " 168.50610082 143.17459781 131.91540176 121.15150239 121.15329911\n",
      " 119.93450033 114.63210163 118.05040075 107.05860123 127.93310066\n",
      " 113.70559964 107.40179982 116.64870044 119.77049885  88.77000043\n",
      "  88.4052988  145.7727017  127.20379982 113.25140026 109.85669829\n",
      " 108.2338992   77.63339884 169.72380188 114.09129913 121.65989898\n",
      " 127.73940209 154.87609863  91.79319972 134.65310051 159.24730417\n",
      " 126.04610048 125.22270063 130.61500184 114.84010147 119.52689975\n",
      "  91.98959967 110.2346988  167.85009917 157.16239929 114.18479945\n",
      " 106.68030106  79.90809971 113.21640027 125.74410096 107.14749948\n",
      " 119.10520115 156.03880354 159.09209841 120.1483998  135.03380358\n",
      " 101.29559982 117.41069813 119.34200024 112.8468006  102.81259936\n",
      " 160.03099728  99.00820054 147.84839983 125.60390111 169.43209938\n",
      " 125.37779955 127.34069762 127.41350208 113.70579927 112.8305005\n",
      " 123.5086991  102.1307988   89.20850009 124.53599991 101.45209947\n",
      " 107.17049911 113.63940019 117.35310084  99.02359969 121.43000063\n",
      " 163.60579932  87.47049919 106.66789984 117.29340063 127.6954008\n",
      " 124.14270072  80.96179887 120.14040058 158.09679821  87.79859956\n",
      " 110.17679942 119.08949936 172.4318984  103.01309895 105.85510029\n",
      " 122.61450008 158.28409766  87.52149865  93.12540049 112.76820019\n",
      " 176.76979922 113.99819988 119.38790056  94.78750105 125.90440029\n",
      " 166.00410081 114.76890075 116.88560126  88.37459871 148.76070082\n",
      " 120.37909909  89.52789974 111.96479997 116.99300018 118.70530125\n",
      "  88.35259969  94.23360002 117.00560041 118.6673015  120.03810052\n",
      " 126.80909809 121.97829973 148.0320004  165.42700039 118.57749965\n",
      " 120.37600134 150.35570067 118.66699908 172.58129841 105.65599939\n",
      " 104.99700102 149.23940077 113.63270051 124.89910143 147.3028995\n",
      " 119.67230107 115.54540093 112.42799977 113.40020196 141.07750142\n",
      " 117.87579756 103.00190049 115.87240127 103.59610175  98.87240043\n",
      " 117.32510079  90.76190012  91.75340026 153.59829886 102.7287997\n",
      " 154.77560082 114.32230141 138.16320133  90.06239833 115.48889925\n",
      " 114.45909973 122.82490056 121.81579997 165.3289015   92.81769935\n",
      " 135.5941014  121.36489881 120.92340084 104.46060004 141.54630344\n",
      " 122.02139945 116.67700046 113.65260073 127.23569727 122.68579924\n",
      " 125.74499983 121.24660027  86.91029908 132.23500195 144.94490203\n",
      "  92.76509948 159.39179968 159.84410239 126.25899916 165.36469909\n",
      " 108.96969957 109.30280085 103.62099829  94.13000039 127.64630239\n",
      " 107.06050006 161.66580039 121.35010065 132.13950026 130.68900103\n",
      " 160.67120016  90.10879827 174.34050166 127.89960029 126.64549875\n",
      "  86.45119947 124.23649926 150.10359718  89.64609997 106.83669986\n",
      " 108.97339988  85.06279906 135.98890041 155.07200256 138.30770341\n",
      "  74.14290005 153.01940091 126.00980007 126.72660043 127.55319828\n",
      " 108.59659977 156.32939995 114.5848015  117.08040156 125.16709985\n",
      " 154.17880092 121.49569964 156.4731983   93.01330062 125.44800139\n",
      " 125.55930023  87.92770021  91.96059951 126.09759993 128.53080342\n",
      " 113.02669994 117.63529701 120.94960049 127.397998   119.77260102\n",
      " 135.79910036  93.78549899 119.73250043 113.42470118  94.21769939\n",
      " 108.90979957  87.4071992  108.85219924  89.67379971  92.34650007\n",
      " 131.55780306 162.32680152  89.3572002  119.68090085 133.56380169\n",
      " 123.93420053 128.34780205 101.9285984   88.86539905 131.33260074\n",
      " 120.1381     108.56919997 168.86500048 115.24390046  86.65049873\n",
      " 118.87610078  91.12949939 161.63000054 116.35980043 121.63360009\n",
      " 160.22209755 120.07049939 112.34619958 108.48549887 126.80729997\n",
      "  76.11029999 102.93749977 127.2798021  121.75189986  92.49389968\n",
      " 132.63660073 118.23760102 116.16949976 154.81130273 160.42190078\n",
      " 110.05039929 155.9034978  119.27950103 160.57410105 118.54770042\n",
      " 159.25959955 115.09999897 116.88950032 149.95349928 114.70450064\n",
      " 125.83149872 166.44599885 117.74330025 125.00589955 153.47110297\n",
      " 153.47200283 132.07470106 114.75190045 121.36710195 124.81450083\n",
      "  89.53420104 123.44379982 154.96920212 111.91250052 106.63\n",
      " 161.61440129 118.74839997 165.70530041 134.25990131 115.01569942\n",
      " 152.95009884 168.91929977 114.93200015 114.02130137 156.96419893\n",
      "  85.40769852 127.20440008 127.90930106 128.93259989 124.35200082\n",
      " 123.92700103  90.65070038 153.37540082  97.11849965 137.25019948\n",
      "  89.20259927 107.31900006 115.16330067 112.88780054 123.91959925\n",
      "  91.41209886 125.46610133 162.1791989  120.02149868 165.37240109\n",
      " 126.73769822 112.542      127.50149905  94.7718992   91.12619988\n",
      " 103.28839897 120.77520017  82.69359939 126.44929963 160.48850413\n",
      " 117.3288012  118.36099998 120.19600009 122.72289958 120.19560141\n",
      " 121.43480051 118.09720045 106.9979994  147.97279914 125.99799891\n",
      " 115.78710096  73.96050018 127.83790084 154.17210062 122.6333\n",
      " 125.62810061  88.80850055 103.74239858 124.52820014 120.2668004\n",
      "  73.37210095 151.57430051 121.32370036 104.84190003  86.58629756\n",
      " 115.16609905 172.15269902 119.83240046 160.16319829 113.10219945\n",
      " 121.51540024 118.50650107  95.9305999  118.87950045 125.81700045\n",
      " 118.56609971  95.99520077 153.98980202 122.25340003 147.25120036\n",
      " 159.3741028  113.59140019 122.58479923 150.30559829 126.96200039\n",
      " 165.68020022 135.12230026 119.82139953 167.1741985  108.26499952\n",
      " 121.53509863 138.24300094 106.44819898]\n"
     ]
    }
   ],
   "source": [
    "print(test_data_prediction)"
   ]
  },
  {
   "cell_type": "code",
   "execution_count": 27,
   "id": "a944e6a4",
   "metadata": {},
   "outputs": [
    {
     "name": "stdout",
     "output_type": "stream",
     "text": [
      "R squared error :  0.9895380892942431\n"
     ]
    }
   ],
   "source": [
    "# R squared error\n",
    "error_score = metrics.r2_score(Y_test, test_data_prediction)\n",
    "print(\"R squared error : \", error_score)"
   ]
  },
  {
   "cell_type": "code",
   "execution_count": 28,
   "id": "cc192f45",
   "metadata": {},
   "outputs": [],
   "source": [
    "#Lets plot actual and predicted value\n",
    "Y_test = list(Y_test)"
   ]
  },
  {
   "cell_type": "code",
   "execution_count": 29,
   "id": "6a7246a4",
   "metadata": {},
   "outputs": [
    {
     "data": {
      "image/png": "[encoded data removed]",
      "text/plain": [
       "<Figure size 432x288 with 1 Axes>"
      ]
     },
     "metadata": {
      "needs_background": "light"
     },
     "output_type": "display_data"
    }
   ],
   "source": [
    "plt.plot(Y_test, color='blue', label = 'Actual Value')\n",
    "plt.plot(test_data_prediction, color='green', label='Predicted Value')\n",
    "plt.title('Actual Price vs Predicted Price')\n",
    "plt.xlabel('Number of values')\n",
    "plt.ylabel('GLD Price')\n",
    "plt.legend()\n",
    "plt.show()"
   ]
  }
 ],
 "metadata": {
  "kernelspec": {
   "display_name": "Python 3 (ipykernel)",
   "language": "python",
   "name": "python3"
  },
  "language_info": {
   "codemirror_mode": {
    "name": "ipython",
    "version": 3
   },
   "file_extension": ".py",
   "mimetype": "text/x-python",
   "name": "python",
   "nbconvert_exporter": "python",
   "pygments_lexer": "ipython3",
   "version": "3.9.12"
  }
 },
 "nbformat": 4,
 "nbformat_minor": 5
}
