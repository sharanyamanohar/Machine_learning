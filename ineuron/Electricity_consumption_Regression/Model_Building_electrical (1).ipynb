{
 "cells": [
  {
   "cell_type": "markdown",
   "id": "4b92bec7",
   "metadata": {},
   "source": [
    "### Importing Libraries"
   ]
  },
  {
   "cell_type": "code",
   "execution_count": 1,
   "id": "bbed921f",
   "metadata": {},
   "outputs": [],
   "source": [
    "import pandas as pd\n",
    "import numpy as np\n",
    "from sklearn.model_selection import train_test_split\n",
    "from sklearn.svm import SVR\n",
    "\n",
    "import warnings\n",
    "warnings.filterwarnings('ignore')"
   ]
  },
  {
   "cell_type": "markdown",
   "id": "dc07defd",
   "metadata": {},
   "source": [
    "### Reading the dataset "
   ]
  },
  {
   "cell_type": "code",
   "execution_count": 2,
   "id": "70094c2d",
   "metadata": {},
   "outputs": [
    {
     "data": {
      "text/html": [
       "<div>\n",
       "<style scoped>\n",
       "    .dataframe tbody tr th:only-of-type {\n",
       "        vertical-align: middle;\n",
       "    }\n",
       "\n",
       "    .dataframe tbody tr th {\n",
       "        vertical-align: top;\n",
       "    }\n",
       "\n",
       "    .dataframe thead th {\n",
       "        text-align: right;\n",
       "    }\n",
       "</style>\n",
       "<table border=\"1\" class=\"dataframe\">\n",
       "  <thead>\n",
       "    <tr style=\"text-align: right;\">\n",
       "      <th></th>\n",
       "      <th>Unnamed: 0</th>\n",
       "      <th>Date</th>\n",
       "      <th>Time</th>\n",
       "      <th>Global_active_power</th>\n",
       "      <th>Global_reactive_power</th>\n",
       "      <th>Voltage</th>\n",
       "      <th>Global_intensity</th>\n",
       "      <th>Target</th>\n",
       "    </tr>\n",
       "  </thead>\n",
       "  <tbody>\n",
       "    <tr>\n",
       "      <th>0</th>\n",
       "      <td>641925</td>\n",
       "      <td>6/3/2008</td>\n",
       "      <td>12:09:00</td>\n",
       "      <td>1.322</td>\n",
       "      <td>0.058</td>\n",
       "      <td>239.17</td>\n",
       "      <td>5.4</td>\n",
       "      <td>0.0</td>\n",
       "    </tr>\n",
       "    <tr>\n",
       "      <th>1</th>\n",
       "      <td>495667</td>\n",
       "      <td>25/11/2007</td>\n",
       "      <td>22:31:00</td>\n",
       "      <td>0.294</td>\n",
       "      <td>0.064</td>\n",
       "      <td>244.26</td>\n",
       "      <td>1.2</td>\n",
       "      <td>0.0</td>\n",
       "    </tr>\n",
       "    <tr>\n",
       "      <th>2</th>\n",
       "      <td>1302460</td>\n",
       "      <td>8/6/2009</td>\n",
       "      <td>05:04:00</td>\n",
       "      <td>0.336</td>\n",
       "      <td>0.094</td>\n",
       "      <td>239.77</td>\n",
       "      <td>1.6</td>\n",
       "      <td>1.0</td>\n",
       "    </tr>\n",
       "    <tr>\n",
       "      <th>3</th>\n",
       "      <td>749968</td>\n",
       "      <td>20/5/2008</td>\n",
       "      <td>12:52:00</td>\n",
       "      <td>1.548</td>\n",
       "      <td>0.190</td>\n",
       "      <td>239.85</td>\n",
       "      <td>6.4</td>\n",
       "      <td>23.0</td>\n",
       "    </tr>\n",
       "    <tr>\n",
       "      <th>4</th>\n",
       "      <td>482440</td>\n",
       "      <td>16/11/2007</td>\n",
       "      <td>18:04:00</td>\n",
       "      <td>2.838</td>\n",
       "      <td>0.060</td>\n",
       "      <td>238.33</td>\n",
       "      <td>11.8</td>\n",
       "      <td>18.0</td>\n",
       "    </tr>\n",
       "  </tbody>\n",
       "</table>\n",
       "</div>"
      ],
      "text/plain": [
       "   Unnamed: 0        Date      Time  Global_active_power  \\\n",
       "0      641925    6/3/2008  12:09:00                1.322   \n",
       "1      495667  25/11/2007  22:31:00                0.294   \n",
       "2     1302460    8/6/2009  05:04:00                0.336   \n",
       "3      749968   20/5/2008  12:52:00                1.548   \n",
       "4      482440  16/11/2007  18:04:00                2.838   \n",
       "\n",
       "   Global_reactive_power  Voltage  Global_intensity  Target  \n",
       "0                  0.058   239.17               5.4     0.0  \n",
       "1                  0.064   244.26               1.2     0.0  \n",
       "2                  0.094   239.77               1.6     1.0  \n",
       "3                  0.190   239.85               6.4    23.0  \n",
       "4                  0.060   238.33              11.8    18.0  "
      ]
     },
     "execution_count": 2,
     "metadata": {},
     "output_type": "execute_result"
    }
   ],
   "source": [
    "df=pd.read_csv(r\"electricity.csv\")\n",
    "df.head()"
   ]
  },
  {
   "cell_type": "code",
   "execution_count": 3,
   "id": "230d33c7",
   "metadata": {},
   "outputs": [],
   "source": [
    "df.drop(['Date', 'Time','Unnamed: 0'], axis=1,inplace=True) #Dropping the unnecessay columns for model building"
   ]
  },
  {
   "cell_type": "code",
   "execution_count": 4,
   "id": "2e231245",
   "metadata": {},
   "outputs": [
    {
     "data": {
      "text/html": [
       "<div>\n",
       "<style scoped>\n",
       "    .dataframe tbody tr th:only-of-type {\n",
       "        vertical-align: middle;\n",
       "    }\n",
       "\n",
       "    .dataframe tbody tr th {\n",
       "        vertical-align: top;\n",
       "    }\n",
       "\n",
       "    .dataframe thead th {\n",
       "        text-align: right;\n",
       "    }\n",
       "</style>\n",
       "<table border=\"1\" class=\"dataframe\">\n",
       "  <thead>\n",
       "    <tr style=\"text-align: right;\">\n",
       "      <th></th>\n",
       "      <th>Global_active_power</th>\n",
       "      <th>Global_reactive_power</th>\n",
       "      <th>Voltage</th>\n",
       "      <th>Global_intensity</th>\n",
       "      <th>Target</th>\n",
       "    </tr>\n",
       "  </thead>\n",
       "  <tbody>\n",
       "    <tr>\n",
       "      <th>0</th>\n",
       "      <td>1.322</td>\n",
       "      <td>0.058</td>\n",
       "      <td>239.17</td>\n",
       "      <td>5.4</td>\n",
       "      <td>0.0</td>\n",
       "    </tr>\n",
       "    <tr>\n",
       "      <th>1</th>\n",
       "      <td>0.294</td>\n",
       "      <td>0.064</td>\n",
       "      <td>244.26</td>\n",
       "      <td>1.2</td>\n",
       "      <td>0.0</td>\n",
       "    </tr>\n",
       "    <tr>\n",
       "      <th>2</th>\n",
       "      <td>0.336</td>\n",
       "      <td>0.094</td>\n",
       "      <td>239.77</td>\n",
       "      <td>1.6</td>\n",
       "      <td>1.0</td>\n",
       "    </tr>\n",
       "    <tr>\n",
       "      <th>3</th>\n",
       "      <td>1.548</td>\n",
       "      <td>0.190</td>\n",
       "      <td>239.85</td>\n",
       "      <td>6.4</td>\n",
       "      <td>23.0</td>\n",
       "    </tr>\n",
       "    <tr>\n",
       "      <th>4</th>\n",
       "      <td>2.838</td>\n",
       "      <td>0.060</td>\n",
       "      <td>238.33</td>\n",
       "      <td>11.8</td>\n",
       "      <td>18.0</td>\n",
       "    </tr>\n",
       "  </tbody>\n",
       "</table>\n",
       "</div>"
      ],
      "text/plain": [
       "   Global_active_power  Global_reactive_power  Voltage  Global_intensity  \\\n",
       "0                1.322                  0.058   239.17               5.4   \n",
       "1                0.294                  0.064   244.26               1.2   \n",
       "2                0.336                  0.094   239.77               1.6   \n",
       "3                1.548                  0.190   239.85               6.4   \n",
       "4                2.838                  0.060   238.33              11.8   \n",
       "\n",
       "   Target  \n",
       "0     0.0  \n",
       "1     0.0  \n",
       "2     1.0  \n",
       "3    23.0  \n",
       "4    18.0  "
      ]
     },
     "execution_count": 4,
     "metadata": {},
     "output_type": "execute_result"
    }
   ],
   "source": [
    "df.head()"
   ]
  },
  {
   "cell_type": "markdown",
   "id": "dc00d07b",
   "metadata": {},
   "source": [
    "### Creating Feature and Label columns "
   ]
  },
  {
   "cell_type": "code",
   "execution_count": 5,
   "id": "35ab8647",
   "metadata": {},
   "outputs": [],
   "source": [
    "X=df.drop('Target',axis=1)"
   ]
  },
  {
   "cell_type": "code",
   "execution_count": 6,
   "id": "ade98e9d",
   "metadata": {},
   "outputs": [
    {
     "data": {
      "text/html": [
       "<div>\n",
       "<style scoped>\n",
       "    .dataframe tbody tr th:only-of-type {\n",
       "        vertical-align: middle;\n",
       "    }\n",
       "\n",
       "    .dataframe tbody tr th {\n",
       "        vertical-align: top;\n",
       "    }\n",
       "\n",
       "    .dataframe thead th {\n",
       "        text-align: right;\n",
       "    }\n",
       "</style>\n",
       "<table border=\"1\" class=\"dataframe\">\n",
       "  <thead>\n",
       "    <tr style=\"text-align: right;\">\n",
       "      <th></th>\n",
       "      <th>Global_active_power</th>\n",
       "      <th>Global_reactive_power</th>\n",
       "      <th>Voltage</th>\n",
       "      <th>Global_intensity</th>\n",
       "    </tr>\n",
       "  </thead>\n",
       "  <tbody>\n",
       "    <tr>\n",
       "      <th>0</th>\n",
       "      <td>1.322</td>\n",
       "      <td>0.058</td>\n",
       "      <td>239.17</td>\n",
       "      <td>5.4</td>\n",
       "    </tr>\n",
       "    <tr>\n",
       "      <th>1</th>\n",
       "      <td>0.294</td>\n",
       "      <td>0.064</td>\n",
       "      <td>244.26</td>\n",
       "      <td>1.2</td>\n",
       "    </tr>\n",
       "    <tr>\n",
       "      <th>2</th>\n",
       "      <td>0.336</td>\n",
       "      <td>0.094</td>\n",
       "      <td>239.77</td>\n",
       "      <td>1.6</td>\n",
       "    </tr>\n",
       "    <tr>\n",
       "      <th>3</th>\n",
       "      <td>1.548</td>\n",
       "      <td>0.190</td>\n",
       "      <td>239.85</td>\n",
       "      <td>6.4</td>\n",
       "    </tr>\n",
       "    <tr>\n",
       "      <th>4</th>\n",
       "      <td>2.838</td>\n",
       "      <td>0.060</td>\n",
       "      <td>238.33</td>\n",
       "      <td>11.8</td>\n",
       "    </tr>\n",
       "  </tbody>\n",
       "</table>\n",
       "</div>"
      ],
      "text/plain": [
       "   Global_active_power  Global_reactive_power  Voltage  Global_intensity\n",
       "0                1.322                  0.058   239.17               5.4\n",
       "1                0.294                  0.064   244.26               1.2\n",
       "2                0.336                  0.094   239.77               1.6\n",
       "3                1.548                  0.190   239.85               6.4\n",
       "4                2.838                  0.060   238.33              11.8"
      ]
     },
     "execution_count": 6,
     "metadata": {},
     "output_type": "execute_result"
    }
   ],
   "source": [
    "X.head()"
   ]
  },
  {
   "cell_type": "code",
   "execution_count": 7,
   "id": "efbe1725",
   "metadata": {},
   "outputs": [],
   "source": [
    "Y=df['Target']"
   ]
  },
  {
   "cell_type": "code",
   "execution_count": 8,
   "id": "5ffecb08",
   "metadata": {},
   "outputs": [],
   "source": [
    "#Train and test split\n",
    "X_train,X_test,Y_train,Y_test=train_test_split(X,Y,test_size=0.20,random_state=40)"
   ]
  },
  {
   "cell_type": "markdown",
   "id": "160a2738",
   "metadata": {},
   "source": [
    "### Standarad Scaler "
   ]
  },
  {
   "cell_type": "code",
   "execution_count": 9,
   "id": "af0b0079",
   "metadata": {},
   "outputs": [],
   "source": [
    "from sklearn.preprocessing import StandardScaler"
   ]
  },
  {
   "cell_type": "code",
   "execution_count": 10,
   "id": "d68136c1",
   "metadata": {},
   "outputs": [
    {
     "data": {
      "text/plain": [
       "StandardScaler()"
      ]
     },
     "execution_count": 10,
     "metadata": {},
     "output_type": "execute_result"
    }
   ],
   "source": [
    "scaler=StandardScaler()\n",
    "scaler"
   ]
  },
  {
   "cell_type": "code",
   "execution_count": 11,
   "id": "672c13de",
   "metadata": {},
   "outputs": [],
   "source": [
    "X_train=scaler.fit_transform(X_train)\n",
    "X_test=scaler.transform(X_test)"
   ]
  },
  {
   "cell_type": "raw",
   "id": "6594427e",
   "metadata": {},
   "source": [
    "After train and test split doing standard scaler to avoid data leakage"
   ]
  },
  {
   "cell_type": "markdown",
   "id": "edbb8097",
   "metadata": {},
   "source": [
    "### Linear Regression  "
   ]
  },
  {
   "cell_type": "code",
   "execution_count": 12,
   "id": "8d23fa68",
   "metadata": {},
   "outputs": [],
   "source": [
    "from sklearn.linear_model import LinearRegression\n",
    "Regression=LinearRegression()#Creating a Linear Regression model"
   ]
  },
  {
   "cell_type": "code",
   "execution_count": 13,
   "id": "701353ea",
   "metadata": {},
   "outputs": [
    {
     "data": {
      "text/plain": [
       "LinearRegression()"
      ]
     },
     "execution_count": 13,
     "metadata": {},
     "output_type": "execute_result"
    }
   ],
   "source": [
    "Regression"
   ]
  },
  {
   "cell_type": "code",
   "execution_count": 14,
   "id": "6caf42a4",
   "metadata": {},
   "outputs": [
    {
     "data": {
      "text/plain": [
       "LinearRegression()"
      ]
     },
     "execution_count": 14,
     "metadata": {},
     "output_type": "execute_result"
    }
   ],
   "source": [
    "Regression.fit(X_train,Y_train)#giving the training data inside the regression model"
   ]
  },
  {
   "cell_type": "code",
   "execution_count": 15,
   "id": "276a0eb5",
   "metadata": {},
   "outputs": [],
   "source": [
    "reg_pred=Regression.predict(X_test)#Predicting the label values by giving the feature"
   ]
  },
  {
   "cell_type": "code",
   "execution_count": 16,
   "id": "0e16e8ba",
   "metadata": {},
   "outputs": [
    {
     "name": "stdout",
     "output_type": "stream",
     "text": [
      "MSE = 46.022316575491566\n",
      "MAE = 4.260624862969165\n",
      "6.783974983406967\n"
     ]
    }
   ],
   "source": [
    "from sklearn.metrics import mean_squared_error\n",
    "from sklearn.metrics import mean_absolute_error\n",
    "print(\"MSE =\",mean_squared_error(Y_test,reg_pred))\n",
    "print(\"MAE =\",mean_absolute_error(Y_test,reg_pred))\n",
    "print(np.sqrt(mean_squared_error(Y_test,reg_pred)))"
   ]
  },
  {
   "cell_type": "code",
   "execution_count": 17,
   "id": "9e0d54a8",
   "metadata": {},
   "outputs": [
    {
     "name": "stdout",
     "output_type": "stream",
     "text": [
      "R2 value 0.7042951669479176\n"
     ]
    }
   ],
   "source": [
    "from sklearn.metrics import r2_score\n",
    "score=r2_score(Y_test,reg_pred)\n",
    "print(\"R2 value\",score)"
   ]
  },
  {
   "cell_type": "code",
   "execution_count": 18,
   "id": "a230c5c4",
   "metadata": {},
   "outputs": [
    {
     "name": "stdout",
     "output_type": "stream",
     "text": [
      "Adjusted R2 value 0.7039002356182988\n"
     ]
    }
   ],
   "source": [
    "print(\"Adjusted R2 value\",1-(1-score)*(len(Y_test)-1)/(len(Y_test)-X_test.shape[1]-1))"
   ]
  },
  {
   "cell_type": "markdown",
   "id": "6efd79f7",
   "metadata": {},
   "source": [
    "#### a)Ridge Regression "
   ]
  },
  {
   "cell_type": "code",
   "execution_count": 19,
   "id": "a7efe743",
   "metadata": {},
   "outputs": [
    {
     "data": {
      "text/plain": [
       "GridSearchCV(cv=5, estimator=Ridge(),\n",
       "             param_grid={'alpha': [1, 1, 2, 4, 5, 10, 20, 30, 40, 50, 60, 70,\n",
       "                                   80, 90]})"
      ]
     },
     "execution_count": 19,
     "metadata": {},
     "output_type": "execute_result"
    }
   ],
   "source": [
    "from sklearn.linear_model import Ridge\n",
    "from sklearn.model_selection import GridSearchCV\n",
    "ridge_regressor=Ridge()\n",
    "parameters={'alpha':[1,1,2,4,5,10,20,30,40,50,60,70,80,90]}\n",
    "ridgecv=GridSearchCV(ridge_regressor,parameters,cv=5)\n",
    "ridgecv.fit(X_train,Y_train)"
   ]
  },
  {
   "cell_type": "code",
   "execution_count": 20,
   "id": "580f305c",
   "metadata": {},
   "outputs": [
    {
     "name": "stdout",
     "output_type": "stream",
     "text": [
      "{'alpha': 1}\n"
     ]
    }
   ],
   "source": [
    "print(ridgecv.best_params_)"
   ]
  },
  {
   "cell_type": "code",
   "execution_count": 21,
   "id": "75dceec4",
   "metadata": {},
   "outputs": [
    {
     "name": "stdout",
     "output_type": "stream",
     "text": [
      "0.7149959682184683\n"
     ]
    }
   ],
   "source": [
    "print(ridgecv.best_score_)"
   ]
  },
  {
   "cell_type": "code",
   "execution_count": 22,
   "id": "8af0ef13",
   "metadata": {},
   "outputs": [
    {
     "data": {
      "text/plain": [
       "array([ 0.76123494,  7.13595829, 11.51628736, ...,  2.13574326,\n",
       "       16.84524981, 12.46157096])"
      ]
     },
     "execution_count": 22,
     "metadata": {},
     "output_type": "execute_result"
    }
   ],
   "source": [
    "ridge_pred=ridgecv.predict(X_test)\n",
    "ridge_pred"
   ]
  },
  {
   "cell_type": "code",
   "execution_count": 23,
   "id": "fdf21346",
   "metadata": {},
   "outputs": [
    {
     "name": "stdout",
     "output_type": "stream",
     "text": [
      "46.04429175175405\n",
      "4.262759035755337\n",
      "6.785594428769969\n"
     ]
    }
   ],
   "source": [
    "#Performance matrix\n",
    "from sklearn.metrics import mean_squared_error\n",
    "from sklearn.metrics import mean_absolute_error\n",
    "print(mean_squared_error(Y_test,ridge_pred))\n",
    "print(mean_absolute_error(Y_test,ridge_pred))\n",
    "print(np.sqrt(mean_squared_error(Y_test,ridge_pred)))"
   ]
  },
  {
   "cell_type": "code",
   "execution_count": 24,
   "id": "9dd1391c",
   "metadata": {},
   "outputs": [
    {
     "name": "stdout",
     "output_type": "stream",
     "text": [
      "0.7041539709736271\n"
     ]
    }
   ],
   "source": [
    "from sklearn.metrics import r2_score\n",
    "ridge_score=r2_score(Y_test,ridge_pred)\n",
    "print(ridge_score)"
   ]
  },
  {
   "cell_type": "code",
   "execution_count": 25,
   "id": "55872cd4",
   "metadata": {},
   "outputs": [
    {
     "data": {
      "text/plain": [
       "0.7037588510684165"
      ]
     },
     "execution_count": 25,
     "metadata": {},
     "output_type": "execute_result"
    }
   ],
   "source": [
    "1-(1-ridge_score)*(len(Y_test)-1)/(len(Y_test)-X_test.shape[1]-1)"
   ]
  },
  {
   "cell_type": "markdown",
   "id": "472121f4",
   "metadata": {},
   "source": [
    "#### b) Lasso Regression "
   ]
  },
  {
   "cell_type": "code",
   "execution_count": 26,
   "id": "5edff6ab",
   "metadata": {},
   "outputs": [
    {
     "data": {
      "text/plain": [
       "GridSearchCV(estimator=Lasso(),\n",
       "             param_grid={'alpha': [1, 2, 5, 10, 20, 30, 40, 50, 60, 70, 80,\n",
       "                                   90]},\n",
       "             scoring='neg_mean_squared_error')"
      ]
     },
     "execution_count": 26,
     "metadata": {},
     "output_type": "execute_result"
    }
   ],
   "source": [
    "from sklearn.linear_model import Lasso\n",
    "lasso=Lasso()\n",
    "parameters={'alpha':[1,2,5,10,20,30,40,50,60,70,80,90]}\n",
    "lassocv=GridSearchCV(lasso,parameters,scoring='neg_mean_squared_error')\n",
    "lassocv.fit(X_train,Y_train)"
   ]
  },
  {
   "cell_type": "code",
   "execution_count": 27,
   "id": "0d4a0881",
   "metadata": {},
   "outputs": [
    {
     "name": "stdout",
     "output_type": "stream",
     "text": [
      "-46.405076337711705\n"
     ]
    }
   ],
   "source": [
    "print(lassocv.best_score_)"
   ]
  },
  {
   "cell_type": "code",
   "execution_count": 28,
   "id": "e53de189",
   "metadata": {},
   "outputs": [
    {
     "data": {
      "text/plain": [
       "array([ 0.99460388,  7.70320159, 10.82648813, ...,  3.13839819,\n",
       "       15.33584857, 11.36243671])"
      ]
     },
     "execution_count": 28,
     "metadata": {},
     "output_type": "execute_result"
    }
   ],
   "source": [
    "lasso_pred=lassocv.predict(X_test)\n",
    "lasso_pred"
   ]
  },
  {
   "cell_type": "code",
   "execution_count": 29,
   "id": "5c69e504",
   "metadata": {},
   "outputs": [
    {
     "name": "stdout",
     "output_type": "stream",
     "text": [
      "47.14657858822157\n",
      "4.456497092054926\n",
      "6.866336620660363\n"
     ]
    }
   ],
   "source": [
    "from sklearn.metrics import mean_squared_error\n",
    "from sklearn.metrics import mean_absolute_error\n",
    "print(mean_squared_error(Y_test,lasso_pred))\n",
    "print(mean_absolute_error(Y_test,lasso_pred))\n",
    "print(np.sqrt(mean_squared_error(Y_test,lasso_pred)))"
   ]
  },
  {
   "cell_type": "code",
   "execution_count": 30,
   "id": "bf186e0c",
   "metadata": {},
   "outputs": [
    {
     "name": "stdout",
     "output_type": "stream",
     "text": [
      "0.6970715038314425\n"
     ]
    }
   ],
   "source": [
    "from sklearn.metrics import r2_score\n",
    "Lasso_score=r2_score(Y_test,lasso_pred)\n",
    "print(Lasso_score)"
   ]
  },
  {
   "cell_type": "code",
   "execution_count": 31,
   "id": "efee1fd4",
   "metadata": {},
   "outputs": [
    {
     "data": {
      "text/plain": [
       "0.696666924871618"
      ]
     },
     "execution_count": 31,
     "metadata": {},
     "output_type": "execute_result"
    }
   ],
   "source": [
    "1-(1-Lasso_score)*(len(Y_test)-1)/(len(Y_test)-X_test.shape[1]-1)"
   ]
  },
  {
   "cell_type": "markdown",
   "id": "055abb87",
   "metadata": {},
   "source": [
    "#### c)Elastic Net Regression "
   ]
  },
  {
   "cell_type": "code",
   "execution_count": 32,
   "id": "05bf3d0c",
   "metadata": {},
   "outputs": [
    {
     "data": {
      "text/plain": [
       "ElasticNet()"
      ]
     },
     "execution_count": 32,
     "metadata": {},
     "output_type": "execute_result"
    }
   ],
   "source": [
    "from sklearn.linear_model import ElasticNet\n",
    "elastic_net_reg=ElasticNet()\n",
    "elastic_net_reg"
   ]
  },
  {
   "cell_type": "code",
   "execution_count": 33,
   "id": "98e6cc41",
   "metadata": {},
   "outputs": [
    {
     "data": {
      "text/plain": [
       "GridSearchCV(cv=5, estimator=ElasticNet(),\n",
       "             param_grid={'alpha': [1, 2, 5, 10, 20, 30, 40, 50, 60, 70, 80,\n",
       "                                   90]},\n",
       "             scoring='neg_mean_squared_error')"
      ]
     },
     "execution_count": 33,
     "metadata": {},
     "output_type": "execute_result"
    }
   ],
   "source": [
    "elastic_net_reg.fit(X_train,Y_train)\n",
    "parameters={'alpha':[1,2,5,10,20,30,40,50,60,70,80,90]}\n",
    "elastic_netcv=GridSearchCV(elastic_net_reg,parameters,scoring='neg_mean_squared_error',cv=5)\n",
    "elastic_netcv.fit(X_train,Y_train)"
   ]
  },
  {
   "cell_type": "code",
   "execution_count": 34,
   "id": "2f5d61e4",
   "metadata": {},
   "outputs": [
    {
     "name": "stdout",
     "output_type": "stream",
     "text": [
      "-52.044941626209116\n"
     ]
    }
   ],
   "source": [
    "print(elastic_netcv.best_score_)"
   ]
  },
  {
   "cell_type": "code",
   "execution_count": 35,
   "id": "1c5156bc",
   "metadata": {},
   "outputs": [],
   "source": [
    "elastic_net_pred=elastic_netcv.predict(X_test)"
   ]
  },
  {
   "cell_type": "code",
   "execution_count": 36,
   "id": "d2af09f8",
   "metadata": {},
   "outputs": [
    {
     "name": "stdout",
     "output_type": "stream",
     "text": [
      "52.196714237795355\n",
      "5.029875850031242\n",
      "7.224729353947825\n"
     ]
    }
   ],
   "source": [
    "#Evaluation of metrics\n",
    "from sklearn.metrics import mean_squared_error\n",
    "from sklearn.metrics import mean_absolute_error\n",
    "print(mean_squared_error(Y_test,elastic_net_pred))\n",
    "print(mean_absolute_error(Y_test,elastic_net_pred))\n",
    "print(np.sqrt(mean_squared_error(Y_test,elastic_net_pred)))"
   ]
  },
  {
   "cell_type": "code",
   "execution_count": 37,
   "id": "14f6b7fc",
   "metadata": {},
   "outputs": [
    {
     "name": "stdout",
     "output_type": "stream",
     "text": [
      "0.6646231259515936\n"
     ]
    }
   ],
   "source": [
    "#R2 square value\n",
    "from sklearn.metrics import r2_score\n",
    "elastic_net_score=r2_score(Y_test,elastic_net_pred)\n",
    "print(elastic_net_score)"
   ]
  },
  {
   "cell_type": "code",
   "execution_count": 38,
   "id": "7f885ca6",
   "metadata": {},
   "outputs": [
    {
     "data": {
      "text/plain": [
       "0.6641752102600431"
      ]
     },
     "execution_count": 38,
     "metadata": {},
     "output_type": "execute_result"
    }
   ],
   "source": [
    "#Adjusted R2 value\n",
    "1-(1-elastic_net_score)*(len(Y_test)-1)/(len(Y_test)-X_test.shape[1]-1)"
   ]
  },
  {
   "cell_type": "markdown",
   "id": "7905787a",
   "metadata": {},
   "source": [
    "### Scaling the data "
   ]
  },
  {
   "cell_type": "code",
   "execution_count": 39,
   "id": "ab051998",
   "metadata": {},
   "outputs": [],
   "source": [
    "X_train_tf=scaler.transform(X_train)\n",
    "X_test_tf=scaler.transform(X_test)"
   ]
  },
  {
   "cell_type": "markdown",
   "id": "0d548783",
   "metadata": {},
   "source": [
    "### Support vector Regression model "
   ]
  },
  {
   "cell_type": "code",
   "execution_count": 40,
   "id": "423ca773",
   "metadata": {},
   "outputs": [
    {
     "data": {
      "text/plain": [
       "SVR(kernel='linear')"
      ]
     },
     "execution_count": 40,
     "metadata": {},
     "output_type": "execute_result"
    }
   ],
   "source": [
    "classifier=SVR(kernel='linear')\n",
    "classifier.fit(X_train_tf,Y_train)"
   ]
  },
  {
   "cell_type": "code",
   "execution_count": 41,
   "id": "680b5455",
   "metadata": {},
   "outputs": [
    {
     "data": {
      "text/plain": [
       "0.7012860490230135"
      ]
     },
     "execution_count": 41,
     "metadata": {},
     "output_type": "execute_result"
    }
   ],
   "source": [
    "classifier.score(X_train_tf,Y_train)"
   ]
  },
  {
   "cell_type": "code",
   "execution_count": 42,
   "id": "4025a4a0",
   "metadata": {},
   "outputs": [],
   "source": [
    "#parameters=[{'C':[1,10,20],'kernel':['polynomial',]},{'C':[1,10,20],'kernel':['rbf'],'gamma':[0.6,0.7,0.8,0.9,0.10]}]\n",
    "#grid_search=GridSearchCV(estimator=classifier,param_grid=parameters,scoring='accuracy',cv=5,n_jobs=-1)\n",
    "#grid_search=grid_search.fit(X_train_tf,Y_train)"
   ]
  },
  {
   "cell_type": "code",
   "execution_count": 43,
   "id": "c9d9f683",
   "metadata": {},
   "outputs": [],
   "source": [
    "#grid_search.best_params_"
   ]
  },
  {
   "cell_type": "markdown",
   "id": "e704e18c",
   "metadata": {},
   "source": [
    "### Saving the model "
   ]
  },
  {
   "cell_type": "code",
   "execution_count": 44,
   "id": "d3d5c240",
   "metadata": {},
   "outputs": [],
   "source": [
    "import pickle\n",
    "filename = 'standard_sacler.pkl'\n",
    "pickle.dump(scaler, open(filename, 'wb'))"
   ]
  },
  {
   "cell_type": "code",
   "execution_count": 45,
   "id": "3cd7b141",
   "metadata": {},
   "outputs": [],
   "source": [
    "import pickle\n",
    "filename = 'SVR.pkl'\n",
    "pickle.dump(classifier, open(filename, 'wb'))"
   ]
  },
  {
   "cell_type": "code",
   "execution_count": 46,
   "id": "0c6f49e2",
   "metadata": {},
   "outputs": [],
   "source": [
    "import pickle\n",
    "filename = 'Linear_Regression.pkl'\n",
    "pickle.dump(Regression, open(filename, 'wb'))"
   ]
  },
  {
   "cell_type": "code",
   "execution_count": 47,
   "id": "8bd74848",
   "metadata": {},
   "outputs": [],
   "source": [
    "import pickle\n",
    "filename = 'Ridge.pkl'\n",
    "pickle.dump(ridgecv, open(filename, 'wb'))"
   ]
  },
  {
   "cell_type": "code",
   "execution_count": 48,
   "id": "c4117d93",
   "metadata": {},
   "outputs": [],
   "source": [
    "import pickle\n",
    "filename = 'Lasso.pkl'\n",
    "pickle.dump(lassocv, open(filename, 'wb'))"
   ]
  },
  {
   "cell_type": "code",
   "execution_count": 49,
   "id": "abf1d835",
   "metadata": {},
   "outputs": [],
   "source": [
    "import pickle\n",
    "filename = 'elasticnet.pkl'\n",
    "pickle.dump(elastic_netcv, open(filename, 'wb'))"
   ]
  }
 ],
 "metadata": {
  "kernelspec": {
   "display_name": "Python 3 (ipykernel)",
   "language": "python",
   "name": "python3"
  },
  "language_info": {
   "codemirror_mode": {
    "name": "ipython",
    "version": 3
   },
   "file_extension": ".py",
   "mimetype": "text/x-python",
   "name": "python",
   "nbconvert_exporter": "python",
   "pygments_lexer": "ipython3",
   "version": "3.9.12"
  }
 },
 "nbformat": 4,
 "nbformat_minor": 5
}
